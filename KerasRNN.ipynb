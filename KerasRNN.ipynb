{
  "nbformat": 4,
  "nbformat_minor": 0,
  "metadata": {
    "colab": {
      "name": "KerasRNN.ipynb",
      "version": "0.3.2",
      "views": {},
      "default_view": {},
      "provenance": [],
      "collapsed_sections": []
    },
    "kernelspec": {
      "name": "python3",
      "display_name": "Python 3"
    },
    "accelerator": "GPU"
  },
  "cells": [
    {
      "metadata": {
        "id": "0M1OTBXBmKVo",
        "colab_type": "text"
      },
      "cell_type": "markdown",
      "source": [
        "# Recurrent Neural Networks"
      ]
    },
    {
      "metadata": {
        "id": "6SgypbMYnX4U",
        "colab_type": "text"
      },
      "cell_type": "markdown",
      "source": [
        "In this notebook, we train a RNN with the use of Keras."
      ]
    },
    {
      "metadata": {
        "id": "dZ5Soks5wczD",
        "colab_type": "code",
        "colab": {
          "autoexec": {
            "startup": false,
            "wait_interval": 0
          },
          "output_extras": [
            {
              "item_id": 2
            }
          ],
          "base_uri": "https://localhost:8080/",
          "height": 102
        },
        "outputId": "2b41c0f6-161a-498a-ada6-b438185af201",
        "executionInfo": {
          "status": "ok",
          "timestamp": 1519014794817,
          "user_tz": 480,
          "elapsed": 1956,
          "user": {
            "displayName": "Omid Heravi",
            "photoUrl": "https://lh3.googleusercontent.com/a/default-user=s128",
            "userId": "116486008948718280427"
          }
        }
      },
      "cell_type": "code",
      "source": [
        "!pip install keras"
      ],
      "execution_count": 1,
      "outputs": [
        {
          "output_type": "stream",
          "text": [
            "Requirement already satisfied: keras in /usr/local/lib/python3.6/dist-packages\n",
            "Requirement already satisfied: scipy>=0.14 in /usr/local/lib/python3.6/dist-packages (from keras)\n",
            "Requirement already satisfied: numpy>=1.9.1 in /usr/local/lib/python3.6/dist-packages (from keras)\n",
            "Requirement already satisfied: six>=1.9.0 in /usr/local/lib/python3.6/dist-packages (from keras)\n",
            "Requirement already satisfied: pyyaml in /usr/local/lib/python3.6/dist-packages (from keras)\n"
          ],
          "name": "stdout"
        }
      ]
    },
    {
      "metadata": {
        "id": "CRStf4K2mMup",
        "colab_type": "code",
        "colab": {
          "autoexec": {
            "startup": false,
            "wait_interval": 0
          },
          "output_extras": [
            {
              "item_id": 1
            }
          ],
          "base_uri": "https://localhost:8080/",
          "height": 34
        },
        "outputId": "635a16e8-9de5-4d48-c2f8-aa168407991c",
        "executionInfo": {
          "status": "ok",
          "timestamp": 1519014798181,
          "user_tz": 480,
          "elapsed": 1194,
          "user": {
            "displayName": "Omid Heravi",
            "photoUrl": "https://lh3.googleusercontent.com/a/default-user=s128",
            "userId": "116486008948718280427"
          }
        }
      },
      "cell_type": "code",
      "source": [
        "import numpy as np\n",
        "import pandas as pd\n",
        "import keras \n",
        "\n",
        "import numpy as np\n",
        "import matplotlib.pyplot as plt\n",
        "\n",
        "from sklearn.preprocessing import LabelEncoder\n",
        "from sklearn.preprocessing import StandardScaler\n",
        "from sklearn.model_selection import train_test_split\n",
        "# -- Keras Import\n",
        "from keras.models import Sequential\n",
        "from keras.layers import Dense, Activation\n",
        "from keras.preprocessing import image\n",
        "\n",
        "from keras.datasets import imdb\n",
        "from keras.datasets import mnist\n",
        "\n",
        "from keras.models import Sequential\n",
        "from keras.layers import Dense, Dropout, Activation, Flatten\n",
        "from keras.layers import Conv2D, MaxPooling2D\n",
        "\n",
        "from keras.utils import np_utils\n",
        "from keras.preprocessing import sequence\n",
        "from keras.layers.embeddings import Embedding\n",
        "from keras.layers.recurrent import LSTM, GRU, SimpleRNN\n",
        "\n",
        "from keras.layers import Activation, TimeDistributed, RepeatVector\n",
        "from keras.callbacks import EarlyStopping, ModelCheckpoint\n",
        "\n",
        "%matplotlib inline"
      ],
      "execution_count": 2,
      "outputs": [
        {
          "output_type": "stream",
          "text": [
            "Using TensorFlow backend.\n"
          ],
          "name": "stderr"
        }
      ]
    },
    {
      "metadata": {
        "id": "L-Hq7FA8oV8U",
        "colab_type": "text"
      },
      "cell_type": "markdown",
      "source": [
        "## 1. Load IMDB Database"
      ]
    },
    {
      "metadata": {
        "id": "Rf6Up0i7p9bz",
        "colab_type": "code",
        "colab": {
          "autoexec": {
            "startup": false,
            "wait_interval": 0
          },
          "output_extras": [
            {
              "item_id": 2
            }
          ],
          "base_uri": "https://localhost:8080/",
          "height": 68
        },
        "outputId": "a860ca4c-c0ab-4e0c-8600-af5e3f896cc1",
        "executionInfo": {
          "status": "ok",
          "timestamp": 1519014815315,
          "user_tz": 480,
          "elapsed": 4842,
          "user": {
            "displayName": "Omid Heravi",
            "photoUrl": "https://lh3.googleusercontent.com/a/default-user=s128",
            "userId": "116486008948718280427"
          }
        }
      },
      "cell_type": "code",
      "source": [
        "max_features = 20000\n",
        "maxlen = 100  # cut texts after this number of words (among top max_features most common words)\n",
        "batch_size = 32\n",
        "\n",
        "print(\"Loading data...\")\n",
        "(X_train, y_train), (X_test, y_test) = imdb.load_data(num_words=max_features)\n",
        "print(len(X_train), 'train sequences')\n",
        "print(len(X_test), 'test sequences')\n"
      ],
      "execution_count": 3,
      "outputs": [
        {
          "output_type": "stream",
          "text": [
            "Loading data...\n",
            "25000 train sequences\n",
            "25000 test sequences\n"
          ],
          "name": "stdout"
        }
      ]
    },
    {
      "metadata": {
        "id": "CcrXgf79qGqg",
        "colab_type": "text"
      },
      "cell_type": "markdown",
      "source": [
        "## 2. Visualize the Data"
      ]
    },
    {
      "metadata": {
        "id": "98_Dh4fJqAl7",
        "colab_type": "code",
        "colab": {
          "autoexec": {
            "startup": false,
            "wait_interval": 0
          },
          "output_extras": [
            {
              "item_id": 2
            }
          ],
          "base_uri": "https://localhost:8080/",
          "height": 122
        },
        "outputId": "cc608fe9-433f-4fbc-df8e-4774f4ae0c79",
        "executionInfo": {
          "status": "ok",
          "timestamp": 1519014821126,
          "user_tz": 480,
          "elapsed": 1023,
          "user": {
            "displayName": "Omid Heravi",
            "photoUrl": "https://lh3.googleusercontent.com/a/default-user=s128",
            "userId": "116486008948718280427"
          }
        }
      },
      "cell_type": "code",
      "source": [
        "print('Example:')\n",
        "print(X_train[:1])\n",
        "\n",
        "print(\"Pad sequences (samples x time)\")\n",
        "X_train = sequence.pad_sequences(X_train, maxlen=maxlen)\n",
        "X_test = sequence.pad_sequences(X_test, maxlen=maxlen)\n",
        "print('X_train shape:', X_train.shape)\n",
        "print('X_test shape:', X_test.shape)"
      ],
      "execution_count": 4,
      "outputs": [
        {
          "output_type": "stream",
          "text": [
            "Example:\n",
            "[list([1, 14, 22, 16, 43, 530, 973, 1622, 1385, 65, 458, 4468, 66, 3941, 4, 173, 36, 256, 5, 25, 100, 43, 838, 112, 50, 670, 2, 9, 35, 480, 284, 5, 150, 4, 172, 112, 167, 2, 336, 385, 39, 4, 172, 4536, 1111, 17, 546, 38, 13, 447, 4, 192, 50, 16, 6, 147, 2025, 19, 14, 22, 4, 1920, 4613, 469, 4, 22, 71, 87, 12, 16, 43, 530, 38, 76, 15, 13, 1247, 4, 22, 17, 515, 17, 12, 16, 626, 18, 19193, 5, 62, 386, 12, 8, 316, 8, 106, 5, 4, 2223, 5244, 16, 480, 66, 3785, 33, 4, 130, 12, 16, 38, 619, 5, 25, 124, 51, 36, 135, 48, 25, 1415, 33, 6, 22, 12, 215, 28, 77, 52, 5, 14, 407, 16, 82, 10311, 8, 4, 107, 117, 5952, 15, 256, 4, 2, 7, 3766, 5, 723, 36, 71, 43, 530, 476, 26, 400, 317, 46, 7, 4, 12118, 1029, 13, 104, 88, 4, 381, 15, 297, 98, 32, 2071, 56, 26, 141, 6, 194, 7486, 18, 4, 226, 22, 21, 134, 476, 26, 480, 5, 144, 30, 5535, 18, 51, 36, 28, 224, 92, 25, 104, 4, 226, 65, 16, 38, 1334, 88, 12, 16, 283, 5, 16, 4472, 113, 103, 32, 15, 16, 5345, 19, 178, 32])]\n",
            "Pad sequences (samples x time)\n",
            "X_train shape: (25000, 100)\n",
            "X_test shape: (25000, 100)\n"
          ],
          "name": "stdout"
        }
      ]
    },
    {
      "metadata": {
        "id": "_OJ8MnQhqsHE",
        "colab_type": "text"
      },
      "cell_type": "markdown",
      "source": [
        "## 3. Setup the Model"
      ]
    },
    {
      "metadata": {
        "id": "wtZn2-IlqdYf",
        "colab_type": "code",
        "colab": {
          "autoexec": {
            "startup": false,
            "wait_interval": 0
          },
          "output_extras": [
            {
              "item_id": 2
            }
          ],
          "base_uri": "https://localhost:8080/",
          "height": 68
        },
        "outputId": "08242c35-e7d6-481d-83e4-f5ede3eb0776",
        "executionInfo": {
          "status": "ok",
          "timestamp": 1519015904761,
          "user_tz": 480,
          "elapsed": 836,
          "user": {
            "displayName": "Omid Heravi",
            "photoUrl": "https://lh3.googleusercontent.com/a/default-user=s128",
            "userId": "116486008948718280427"
          }
        }
      },
      "cell_type": "code",
      "source": [
        "print('Build model...SimpleRNN')\n",
        "Simple_RNN_model = Sequential()\n",
        "Simple_RNN_model.add(Embedding(max_features, 128, input_length=maxlen))\n",
        "Simple_RNN_model.add(SimpleRNN(128))  \n",
        "Simple_RNN_model.add(Dropout(0.5))\n",
        "Simple_RNN_model.add(Dense(1))\n",
        "Simple_RNN_model.add(Activation('sigmoid'))\n",
        "\n",
        "print('Build model...GRU')\n",
        "GRU_model = Sequential()\n",
        "GRU_model.add(Embedding(max_features, 128, input_length=maxlen))\n",
        "GRU_model.add(GRU(128))  \n",
        "GRU_model.add(Dropout(0.5))\n",
        "GRU_model.add(Dense(1))\n",
        "GRU_model.add(Activation('sigmoid'))\n",
        "\n",
        "print('Build model...LSTM')\n",
        "LSTM_model = Sequential()\n",
        "LSTM_model.add(Embedding(max_features, 128, input_length=maxlen))\n",
        "LSTM_model.add(LSTM(128))  \n",
        "LSTM_model.add(Dropout(0.5))\n",
        "LSTM_model.add(Dense(1))\n",
        "LSTM_model.add(Activation('sigmoid'))\n"
      ],
      "execution_count": 9,
      "outputs": [
        {
          "output_type": "stream",
          "text": [
            "Build model...SimpleRNN\n",
            "Build model...GRU\n",
            "Build model...LSTM\n"
          ],
          "name": "stdout"
        }
      ]
    },
    {
      "metadata": {
        "id": "hcGY10RbryYe",
        "colab_type": "text"
      },
      "cell_type": "markdown",
      "source": [
        "## 4. Summary of the model"
      ]
    },
    {
      "metadata": {
        "id": "lutAJXYOqwIg",
        "colab_type": "code",
        "colab": {
          "autoexec": {
            "startup": false,
            "wait_interval": 0
          },
          "output_extras": [
            {
              "item_id": 1
            }
          ],
          "base_uri": "https://localhost:8080/",
          "height": 1037
        },
        "outputId": "a14391a5-68e7-4e4d-ffdd-063451c37600",
        "executionInfo": {
          "status": "ok",
          "timestamp": 1519015906213,
          "user_tz": 480,
          "elapsed": 281,
          "user": {
            "displayName": "Omid Heravi",
            "photoUrl": "https://lh3.googleusercontent.com/a/default-user=s128",
            "userId": "116486008948718280427"
          }
        }
      },
      "cell_type": "code",
      "source": [
        "print('Simple RNN Summary')\n",
        "Simple_RNN_model.summary()\n",
        "print('\\n')\n",
        "\n",
        "print('GRU Summary')\n",
        "GRU_model.summary()\n",
        "print('\\n')\n",
        "\n",
        "print('LSTM Summary')\n",
        "LSTM_model.summary()\n",
        "print('\\n')"
      ],
      "execution_count": 10,
      "outputs": [
        {
          "output_type": "stream",
          "text": [
            "Simple RNN Summary\n",
            "_________________________________________________________________\n",
            "Layer (type)                 Output Shape              Param #   \n",
            "=================================================================\n",
            "embedding_5 (Embedding)      (None, 100, 128)          2560000   \n",
            "_________________________________________________________________\n",
            "simple_rnn_5 (SimpleRNN)     (None, 128)               32896     \n",
            "_________________________________________________________________\n",
            "dropout_5 (Dropout)          (None, 128)               0         \n",
            "_________________________________________________________________\n",
            "dense_5 (Dense)              (None, 1)                 129       \n",
            "_________________________________________________________________\n",
            "activation_5 (Activation)    (None, 1)                 0         \n",
            "=================================================================\n",
            "Total params: 2,593,025\n",
            "Trainable params: 2,593,025\n",
            "Non-trainable params: 0\n",
            "_________________________________________________________________\n",
            "\n",
            "\n",
            "GRU Summary\n",
            "_________________________________________________________________\n",
            "Layer (type)                 Output Shape              Param #   \n",
            "=================================================================\n",
            "embedding_6 (Embedding)      (None, 100, 128)          2560000   \n",
            "_________________________________________________________________\n",
            "gru_1 (GRU)                  (None, 128)               98688     \n",
            "_________________________________________________________________\n",
            "dropout_6 (Dropout)          (None, 128)               0         \n",
            "_________________________________________________________________\n",
            "dense_6 (Dense)              (None, 1)                 129       \n",
            "_________________________________________________________________\n",
            "activation_6 (Activation)    (None, 1)                 0         \n",
            "=================================================================\n",
            "Total params: 2,658,817\n",
            "Trainable params: 2,658,817\n",
            "Non-trainable params: 0\n",
            "_________________________________________________________________\n",
            "\n",
            "\n",
            "LSTM Summary\n",
            "_________________________________________________________________\n",
            "Layer (type)                 Output Shape              Param #   \n",
            "=================================================================\n",
            "embedding_7 (Embedding)      (None, 100, 128)          2560000   \n",
            "_________________________________________________________________\n",
            "lstm_1 (LSTM)                (None, 128)               131584    \n",
            "_________________________________________________________________\n",
            "dropout_7 (Dropout)          (None, 128)               0         \n",
            "_________________________________________________________________\n",
            "dense_7 (Dense)              (None, 1)                 129       \n",
            "_________________________________________________________________\n",
            "activation_7 (Activation)    (None, 1)                 0         \n",
            "=================================================================\n",
            "Total params: 2,691,713\n",
            "Trainable params: 2,691,713\n",
            "Non-trainable params: 0\n",
            "_________________________________________________________________\n",
            "\n",
            "\n"
          ],
          "name": "stdout"
        }
      ]
    },
    {
      "metadata": {
        "id": "PtF7gBE6uC3N",
        "colab_type": "text"
      },
      "cell_type": "markdown",
      "source": [
        "## 5. Compile the model"
      ]
    },
    {
      "metadata": {
        "id": "_Q41jr3SttQj",
        "colab_type": "code",
        "colab": {
          "autoexec": {
            "startup": false,
            "wait_interval": 0
          },
          "output_extras": [
            {
              "item_id": 1
            }
          ],
          "base_uri": "https://localhost:8080/",
          "height": 170
        },
        "outputId": "ab0c406f-eb21-402b-cb6e-25220b786ce6",
        "executionInfo": {
          "status": "ok",
          "timestamp": 1519016024120,
          "user_tz": 480,
          "elapsed": 303,
          "user": {
            "displayName": "Omid Heravi",
            "photoUrl": "https://lh3.googleusercontent.com/a/default-user=s128",
            "userId": "116486008948718280427"
          }
        }
      },
      "cell_type": "code",
      "source": [
        "# try using different optimizers and different optimizer configs\n",
        "\n",
        "\n",
        "Simple_RNN_model.compile(loss='binary_crossentropy', optimizer='adam', metrics=['accuracy'])\n",
        "print('Simple RNN compliation Complete!')\n",
        "print('\\n')\n",
        "\n",
        "GRU_model.compile(loss='binary_crossentropy', optimizer='adam', metrics=['accuracy'])\n",
        "print('GRU compliation Complete!')\n",
        "print('\\n')\n",
        "\n",
        "LSTM_model.compile(loss='binary_crossentropy', optimizer='adam', metrics=['accuracy'])\n",
        "print('LSTM compliation Complete!')\n",
        "print('\\n')"
      ],
      "execution_count": 11,
      "outputs": [
        {
          "output_type": "stream",
          "text": [
            "Simple RNN compliation Complete!\n",
            "\n",
            "\n",
            "GRU compliation Complete!\n",
            "\n",
            "\n",
            "LSTM compliation Complete!\n",
            "\n",
            "\n"
          ],
          "name": "stdout"
        }
      ]
    },
    {
      "metadata": {
        "id": "-talI3TsuJ8Q",
        "colab_type": "text"
      },
      "cell_type": "markdown",
      "source": [
        "## 6. Train the Model"
      ]
    },
    {
      "metadata": {
        "id": "UeCVLCu-uGW2",
        "colab_type": "code",
        "colab": {
          "autoexec": {
            "startup": false,
            "wait_interval": 0
          },
          "output_extras": [
            {
              "item_id": 52
            },
            {
              "item_id": 62
            }
          ],
          "base_uri": "https://localhost:8080/",
          "height": 2261
        },
        "outputId": "49148561-d3dd-4bab-e9eb-1a9251b11aa3",
        "executionInfo": {
          "status": "ok",
          "timestamp": 1519021894039,
          "user_tz": 480,
          "elapsed": 4704181,
          "user": {
            "displayName": "Omid Heravi",
            "photoUrl": "https://lh3.googleusercontent.com/a/default-user=s128",
            "userId": "116486008948718280427"
          }
        }
      },
      "cell_type": "code",
      "source": [
        "from keras.callbacks import ModelCheckpoint   \n",
        "\n",
        "# Function to later visulaze the accuracy/performance of the model\n",
        "class AccuracyHistory(keras.callbacks.Callback):\n",
        "    def on_train_begin(self, logs={}):\n",
        "        self.acc = []\n",
        "\n",
        "    def on_epoch_end(self, batch, logs={}):\n",
        "        self.acc.append(logs.get('acc'))\n",
        "\n",
        "history = AccuracyHistory()\n",
        "\n",
        "model_hist = {}\n",
        "\n",
        "print('Train the GRU model...')\n",
        "checkpointerGRU = ModelCheckpoint(filepath='modelGRU.weights.best.hdf5', verbose=1, \n",
        "                               save_best_only=True)\n",
        "model_hist['GRU'] = GRU_model.fit(X_train, y_train, batch_size=32, epochs=10,\n",
        "          validation_data=(X_test, y_test), callbacks=[checkpointerGRU,history], \n",
        "          verbose=2, shuffle=True)\n",
        "print('\\n')\n",
        "\n",
        "print('Train the LSTM model...')\n",
        "checkpointerLSTM = ModelCheckpoint(filepath='modelLSTM.weights.best.hdf5', verbose=1, \n",
        "                               save_best_only=True)\n",
        "model_hist['LSTM'] = LSTM_model.fit(X_train, y_train, batch_size=32, epochs=10,\n",
        "          validation_data=(X_test, y_test), callbacks=[checkpointerLSTM,history], \n",
        "          verbose=2, shuffle=True)\n",
        "print('\\n')\n",
        "\n",
        "print('Train the Simple RNN model...')\n",
        "checkpointerRNN = ModelCheckpoint(filepath='modelRNN.weights.best.hdf5', verbose=1, \n",
        "                               save_best_only=True)\n",
        "model_hist['RNN'] = Simple_RNN_model.fit(X_train, y_train, batch_size=32, epochs=10,\n",
        "          validation_data=(X_test, y_test), callbacks=[checkpointerRNN,history], \n",
        "          verbose=2, shuffle=True)\n",
        "print('\\n')\n",
        "\n"
      ],
      "execution_count": 14,
      "outputs": [
        {
          "output_type": "stream",
          "text": [
            "Train the GRU model...\n",
            "Train on 25000 samples, validate on 25000 samples\n",
            "Epoch 1/10\n",
            " - 133s - loss: 0.4423 - acc: 0.7849 - val_loss: 0.3454 - val_acc: 0.8483\n",
            "\n",
            "Epoch 00001: val_loss improved from inf to 0.34541, saving model to modelGRU.weights.best.hdf5\n",
            "Epoch 2/10\n",
            " - 130s - loss: 0.2334 - acc: 0.9084 - val_loss: 0.3561 - val_acc: 0.8542\n",
            "\n",
            "Epoch 00002: val_loss did not improve\n",
            "Epoch 3/10\n",
            " - 132s - loss: 0.1235 - acc: 0.9552 - val_loss: 0.4436 - val_acc: 0.8442\n",
            "\n",
            "Epoch 00003: val_loss did not improve\n",
            "Epoch 4/10\n",
            " - 132s - loss: 0.0612 - acc: 0.9795 - val_loss: 0.5335 - val_acc: 0.8338\n",
            "\n",
            "Epoch 00004: val_loss did not improve\n",
            "Epoch 5/10\n",
            " - 132s - loss: 0.0358 - acc: 0.9883 - val_loss: 0.7078 - val_acc: 0.8365\n",
            "\n",
            "Epoch 00005: val_loss did not improve\n",
            "Epoch 6/10\n",
            " - 132s - loss: 0.0200 - acc: 0.9939 - val_loss: 0.7632 - val_acc: 0.8294\n",
            "\n",
            "Epoch 00006: val_loss did not improve\n",
            "Epoch 7/10\n",
            " - 131s - loss: 0.0159 - acc: 0.9950 - val_loss: 0.8808 - val_acc: 0.8289\n",
            "\n",
            "Epoch 00007: val_loss did not improve\n",
            "Epoch 8/10\n",
            " - 132s - loss: 0.0094 - acc: 0.9972 - val_loss: 0.9135 - val_acc: 0.8266\n",
            "\n",
            "Epoch 00008: val_loss did not improve\n",
            "Epoch 9/10\n",
            " - 132s - loss: 0.0066 - acc: 0.9980 - val_loss: 1.1029 - val_acc: 0.8266\n",
            "\n",
            "Epoch 00009: val_loss did not improve\n",
            "Epoch 10/10\n",
            " - 133s - loss: 0.0083 - acc: 0.9974 - val_loss: 1.1130 - val_acc: 0.8211\n",
            "\n",
            "Epoch 00010: val_loss did not improve\n",
            "\n",
            "\n",
            "Train the LSTM model...\n",
            "Train on 25000 samples, validate on 25000 samples\n",
            "Epoch 1/10\n",
            " - 263s - loss: 0.4232 - acc: 0.8046 - val_loss: 0.3460 - val_acc: 0.8468\n",
            "\n",
            "Epoch 00001: val_loss improved from inf to 0.34601, saving model to modelLSTM.weights.best.hdf5\n",
            "Epoch 2/10\n",
            " - 261s - loss: 0.2438 - acc: 0.9055 - val_loss: 0.3837 - val_acc: 0.8409\n",
            "\n",
            "Epoch 00002: val_loss did not improve\n",
            "Epoch 3/10\n",
            " - 262s - loss: 0.1523 - acc: 0.9442 - val_loss: 0.3957 - val_acc: 0.8388\n",
            "\n",
            "Epoch 00003: val_loss did not improve\n",
            "Epoch 4/10\n",
            " - 260s - loss: 0.1028 - acc: 0.9642 - val_loss: 0.5578 - val_acc: 0.8318\n",
            "\n",
            "Epoch 00004: val_loss did not improve\n",
            "Epoch 5/10\n",
            " - 261s - loss: 0.0686 - acc: 0.9771 - val_loss: 0.7522 - val_acc: 0.8220\n",
            "\n",
            "Epoch 00005: val_loss did not improve\n",
            "Epoch 6/10\n",
            " - 261s - loss: 0.0516 - acc: 0.9827 - val_loss: 0.6074 - val_acc: 0.8167\n",
            "\n",
            "Epoch 00006: val_loss did not improve\n",
            "Epoch 7/10\n",
            " - 262s - loss: 0.0385 - acc: 0.9880 - val_loss: 0.8149 - val_acc: 0.8268\n",
            "\n",
            "Epoch 00007: val_loss did not improve\n",
            "Epoch 8/10\n",
            " - 260s - loss: 0.0319 - acc: 0.9900 - val_loss: 0.7617 - val_acc: 0.8287\n",
            "\n",
            "Epoch 00008: val_loss did not improve\n",
            "Epoch 9/10\n",
            " - 260s - loss: 0.0221 - acc: 0.9930 - val_loss: 0.8052 - val_acc: 0.8270\n",
            "\n",
            "Epoch 00009: val_loss did not improve\n",
            "Epoch 10/10\n",
            " - 260s - loss: 0.0175 - acc: 0.9946 - val_loss: 0.9936 - val_acc: 0.8284\n",
            "\n",
            "Epoch 00010: val_loss did not improve\n",
            "\n",
            "\n",
            "Train the Simple RNN model...\n",
            "Train on 25000 samples, validate on 25000 samples\n",
            "Epoch 1/10\n",
            " - 78s - loss: 0.6531 - acc: 0.6074 - val_loss: 0.5973 - val_acc: 0.6734\n",
            "\n",
            "Epoch 00001: val_loss improved from inf to 0.59732, saving model to modelRNN.weights.best.hdf5\n",
            "Epoch 2/10\n",
            " - 78s - loss: 0.4983 - acc: 0.7615 - val_loss: 0.4733 - val_acc: 0.7830\n",
            "\n",
            "Epoch 00002: val_loss improved from 0.59732 to 0.47329, saving model to modelRNN.weights.best.hdf5\n",
            "Epoch 3/10\n",
            " - 78s - loss: 0.4783 - acc: 0.7703 - val_loss: 0.5285 - val_acc: 0.7495\n",
            "\n",
            "Epoch 00003: val_loss did not improve\n",
            "Epoch 4/10\n",
            " - 78s - loss: 0.4647 - acc: 0.7947 - val_loss: 0.6004 - val_acc: 0.6773\n",
            "\n",
            "Epoch 00004: val_loss did not improve\n",
            "Epoch 5/10\n",
            " - 76s - loss: 0.3742 - acc: 0.8466 - val_loss: 0.4748 - val_acc: 0.7861\n",
            "\n",
            "Epoch 00005: val_loss did not improve\n",
            "Epoch 6/10\n"
          ],
          "name": "stdout"
        },
        {
          "output_type": "stream",
          "text": [
            " - 77s - loss: 0.2899 - acc: 0.8904 - val_loss: 0.5044 - val_acc: 0.8011\n",
            "\n",
            "Epoch 00006: val_loss did not improve\n",
            "Epoch 7/10\n",
            " - 77s - loss: 0.2858 - acc: 0.8930 - val_loss: 0.5615 - val_acc: 0.7363\n",
            "\n",
            "Epoch 00007: val_loss did not improve\n",
            "Epoch 8/10\n",
            " - 77s - loss: 0.2753 - acc: 0.8990 - val_loss: 0.5663 - val_acc: 0.7926\n",
            "\n",
            "Epoch 00008: val_loss did not improve\n",
            "Epoch 9/10\n",
            " - 78s - loss: 0.2230 - acc: 0.9196 - val_loss: 0.5459 - val_acc: 0.7727\n",
            "\n",
            "Epoch 00009: val_loss did not improve\n",
            "Epoch 10/10\n",
            " - 77s - loss: 0.3003 - acc: 0.8828 - val_loss: 0.6036 - val_acc: 0.7675\n",
            "\n",
            "Epoch 00010: val_loss did not improve\n",
            "\n",
            "\n"
          ],
          "name": "stdout"
        }
      ]
    },
    {
      "metadata": {
        "id": "ethqxpv1yWYd",
        "colab_type": "text"
      },
      "cell_type": "markdown",
      "source": [
        "## 8. Load the Model with the Best Validation Accuracy"
      ]
    },
    {
      "metadata": {
        "id": "FZPPNE_Jud7L",
        "colab_type": "code",
        "colab": {
          "autoexec": {
            "startup": false,
            "wait_interval": 0
          }
        }
      },
      "cell_type": "code",
      "source": [
        "# load the weights that yielded the best validation accuracy\n",
        "\n",
        "Simple_RNN_model.load_weights('modelRNN.weights.best.hdf5')\n",
        "\n",
        "GRU_model.load_weights('modelGRU.weights.best.hdf5')\n",
        "\n",
        "LSTM_model.load_weights('modelLSTM.weights.best.hdf5')"
      ],
      "execution_count": 0,
      "outputs": []
    },
    {
      "metadata": {
        "id": "t3L9LgUfycqk",
        "colab_type": "text"
      },
      "cell_type": "markdown",
      "source": [
        "## 9. Calculate Classification Accuracy on Test Set"
      ]
    },
    {
      "metadata": {
        "id": "mrmNHy9tyZo9",
        "colab_type": "code",
        "colab": {
          "autoexec": {
            "startup": false,
            "wait_interval": 0
          },
          "output_extras": [
            {
              "item_id": 3
            }
          ],
          "base_uri": "https://localhost:8080/",
          "height": 119
        },
        "outputId": "457b4092-7a23-4ef7-d93a-b8f20d15b58f",
        "executionInfo": {
          "status": "ok",
          "timestamp": 1519022329127,
          "user_tz": 480,
          "elapsed": 64868,
          "user": {
            "displayName": "Omid Heravi",
            "photoUrl": "https://lh3.googleusercontent.com/a/default-user=s128",
            "userId": "116486008948718280427"
          }
        }
      },
      "cell_type": "code",
      "source": [
        "# evaluate and print test accuracy\n",
        "scoreRNN = Simple_RNN_model.evaluate(X_test, y_test, verbose=0)\n",
        "print('\\n', 'Simple RNN Test Accuracy:', scoreRNN[1])\n",
        "\n",
        "scoreGRU = GRU_model.evaluate(X_test, y_test, verbose=0)\n",
        "print('\\n', 'GRU Test Accuracy:', scoreGRU[1])\n",
        "\n",
        "scoreLSTM = LSTM_model.evaluate(X_test, y_test, verbose=0)\n",
        "print('\\n', 'LSTM Test Accuracy:', scoreLSTM[1])\n"
      ],
      "execution_count": 17,
      "outputs": [
        {
          "output_type": "stream",
          "text": [
            "\n",
            " Simple RNN Test Accuracy: 0.783\n",
            "\n",
            " GRU Test Accuracy: 0.84828\n",
            "\n",
            " LSTM Test Accuracy: 0.84676\n"
          ],
          "name": "stdout"
        }
      ]
    },
    {
      "metadata": {
        "id": "NV6sxOXKyth1",
        "colab_type": "text"
      },
      "cell_type": "markdown",
      "source": [
        "## 10. Visulalize the Accuracy of RNN Model"
      ]
    },
    {
      "metadata": {
        "id": "ww4TR50wyhkt",
        "colab_type": "code",
        "colab": {
          "autoexec": {
            "startup": false,
            "wait_interval": 0
          },
          "output_extras": [
            {
              "item_id": 1
            }
          ],
          "base_uri": "https://localhost:8080/",
          "height": 279
        },
        "outputId": "449d2683-45ea-4f20-b1fe-26bd2357a636",
        "executionInfo": {
          "status": "ok",
          "timestamp": 1519022546893,
          "user_tz": 480,
          "elapsed": 473,
          "user": {
            "displayName": "Omid Heravi",
            "photoUrl": "https://lh3.googleusercontent.com/a/default-user=s128",
            "userId": "116486008948718280427"
          }
        }
      },
      "cell_type": "code",
      "source": [
        "import numpy as np\n",
        "\n",
        "accuracy = np.array(history.acc)\n",
        "\n",
        "plt.plot(range(10), accuracy)\n",
        "plt.xlabel('Epochs')\n",
        "plt.ylabel('Accuracy')\n",
        "plt.show()"
      ],
      "execution_count": 20,
      "outputs": [
        {
          "output_type": "display_data",
          "data": {
            "image/png": "[encoded data removed]",
            "text/plain": [
              "<matplotlib.figure.Figure at 0x7f770d664b38>"
            ]
          },
          "metadata": {
            "tags": []
          }
        }
      ]
    },
    {
      "metadata": {
        "id": "ALnJws27zKl8",
        "colab_type": "text"
      },
      "cell_type": "markdown",
      "source": [
        "Forgot to mointor the accuracy of the GRU, and LSTM."
      ]
    }
  ]
}
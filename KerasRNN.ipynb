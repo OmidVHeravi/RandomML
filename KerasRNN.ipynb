{
  "nbformat": 4,
  "nbformat_minor": 0,
  "metadata": {
    "colab": {
      "name": "KerasRNN.ipynb",
      "version": "0.3.2",
      "views": {},
      "default_view": {},
      "provenance": [],
      "collapsed_sections": []
    },
    "kernelspec": {
      "name": "python3",
      "display_name": "Python 3"
    },
    "accelerator": "GPU"
  },
  "cells": [
    {
      "metadata": {
        "id": "0M1OTBXBmKVo",
        "colab_type": "text"
      },
      "cell_type": "markdown",
      "source": [
        "# Recurrent Neural Networks"
      ]
    },
    {
      "metadata": {
        "id": "6SgypbMYnX4U",
        "colab_type": "text"
      },
      "cell_type": "markdown",
      "source": [
        "In this notebook, we train a RNN with the use of Keras."
      ]
    },
    {
      "metadata": {
        "id": "dZ5Soks5wczD",
        "colab_type": "code",
        "colab": {
          "autoexec": {
            "startup": false,
            "wait_interval": 0
          },
          "output_extras": [
            {
              "item_id": 4
            }
          ],
          "base_uri": "https://localhost:8080/",
          "height": 170
        },
        "outputId": "f2e83d1c-c37e-4df2-c425-853e42bfc7aa",
        "executionInfo": {
          "status": "ok",
          "timestamp": 1518937959968,
          "user_tz": 480,
          "elapsed": 2665,
          "user": {
            "displayName": "Omid Heravi",
            "photoUrl": "https://lh3.googleusercontent.com/a/default-user=s128",
            "userId": "116486008948718280427"
          }
        }
      },
      "cell_type": "code",
      "source": [
        "!pip install keras"
      ],
      "execution_count": 2,
      "outputs": [
        {
          "output_type": "stream",
          "text": [
            "Collecting keras\n",
            "  Downloading Keras-2.1.4-py2.py3-none-any.whl (322kB)\n",
            "\u001b[K    100% |████████████████████████████████| 327kB 2.2MB/s \n",
            "\u001b[?25hRequirement already satisfied: six>=1.9.0 in /usr/local/lib/python3.6/dist-packages (from keras)\n",
            "Requirement already satisfied: scipy>=0.14 in /usr/local/lib/python3.6/dist-packages (from keras)\n",
            "Requirement already satisfied: numpy>=1.9.1 in /usr/local/lib/python3.6/dist-packages (from keras)\n",
            "Requirement already satisfied: pyyaml in /usr/local/lib/python3.6/dist-packages (from keras)\n",
            "Installing collected packages: keras\n",
            "Successfully installed keras-2.1.4\n"
          ],
          "name": "stdout"
        }
      ]
    },
    {
      "metadata": {
        "id": "CRStf4K2mMup",
        "colab_type": "code",
        "colab": {
          "autoexec": {
            "startup": false,
            "wait_interval": 0
          },
          "output_extras": [
            {
              "item_id": 1
            }
          ],
          "base_uri": "https://localhost:8080/",
          "height": 34
        },
        "outputId": "e5c5d64f-ba54-4e88-a276-a6d40407149b",
        "executionInfo": {
          "status": "ok",
          "timestamp": 1518937968334,
          "user_tz": 480,
          "elapsed": 7246,
          "user": {
            "displayName": "Omid Heravi",
            "photoUrl": "https://lh3.googleusercontent.com/a/default-user=s128",
            "userId": "116486008948718280427"
          }
        }
      },
      "cell_type": "code",
      "source": [
        "import numpy as np\n",
        "import pandas as pd\n",
        "import keras \n",
        "\n",
        "import numpy as np\n",
        "import matplotlib.pyplot as plt\n",
        "\n",
        "from sklearn.preprocessing import LabelEncoder\n",
        "from sklearn.preprocessing import StandardScaler\n",
        "from sklearn.model_selection import train_test_split\n",
        "# -- Keras Import\n",
        "from keras.models import Sequential\n",
        "from keras.layers import Dense, Activation\n",
        "from keras.preprocessing import image\n",
        "\n",
        "from keras.datasets import imdb\n",
        "from keras.datasets import mnist\n",
        "\n",
        "from keras.models import Sequential\n",
        "from keras.layers import Dense, Dropout, Activation, Flatten\n",
        "from keras.layers import Conv2D, MaxPooling2D\n",
        "\n",
        "from keras.utils import np_utils\n",
        "from keras.preprocessing import sequence\n",
        "from keras.layers.embeddings import Embedding\n",
        "from keras.layers.recurrent import LSTM, GRU, SimpleRNN\n",
        "\n",
        "from keras.layers import Activation, TimeDistributed, RepeatVector\n",
        "from keras.callbacks import EarlyStopping, ModelCheckpoint\n",
        "\n",
        "%matplotlib inline"
      ],
      "execution_count": 3,
      "outputs": [
        {
          "output_type": "stream",
          "text": [
            "Using TensorFlow backend.\n"
          ],
          "name": "stderr"
        }
      ]
    },
    {
      "metadata": {
        "id": "L-Hq7FA8oV8U",
        "colab_type": "text"
      },
      "cell_type": "markdown",
      "source": [
        "## 1. Load IMDB Database"
      ]
    },
    {
      "metadata": {
        "id": "Rf6Up0i7p9bz",
        "colab_type": "code",
        "colab": {
          "autoexec": {
            "startup": false,
            "wait_interval": 0
          },
          "output_extras": [
            {
              "item_id": 4
            }
          ],
          "base_uri": "https://localhost:8080/",
          "height": 102
        },
        "outputId": "eaecb83d-85c3-456c-c5aa-c8946b761321",
        "executionInfo": {
          "status": "ok",
          "timestamp": 1518937976036,
          "user_tz": 480,
          "elapsed": 5510,
          "user": {
            "displayName": "Omid Heravi",
            "photoUrl": "https://lh3.googleusercontent.com/a/default-user=s128",
            "userId": "116486008948718280427"
          }
        }
      },
      "cell_type": "code",
      "source": [
        "max_features = 20000\n",
        "maxlen = 100  # cut texts after this number of words (among top max_features most common words)\n",
        "batch_size = 32\n",
        "\n",
        "print(\"Loading data...\")\n",
        "(X_train, y_train), (X_test, y_test) = imdb.load_data(num_words=max_features)\n",
        "print(len(X_train), 'train sequences')\n",
        "print(len(X_test), 'test sequences')\n"
      ],
      "execution_count": 4,
      "outputs": [
        {
          "output_type": "stream",
          "text": [
            "Loading data...\n",
            "Downloading data from https://s3.amazonaws.com/text-datasets/imdb.npz\n",
            "17465344/17464789 [==============================] - 1s 0us/step\n",
            "25000 train sequences\n",
            "25000 test sequences\n"
          ],
          "name": "stdout"
        }
      ]
    },
    {
      "metadata": {
        "id": "CcrXgf79qGqg",
        "colab_type": "text"
      },
      "cell_type": "markdown",
      "source": [
        "## 2. Visualize the Data"
      ]
    },
    {
      "metadata": {
        "id": "98_Dh4fJqAl7",
        "colab_type": "code",
        "colab": {
          "autoexec": {
            "startup": false,
            "wait_interval": 0
          },
          "output_extras": [
            {
              "item_id": 2
            }
          ],
          "base_uri": "https://localhost:8080/",
          "height": 122
        },
        "outputId": "c388e421-953c-4564-db5b-2bee8640e059",
        "executionInfo": {
          "status": "ok",
          "timestamp": 1518937980240,
          "user_tz": 480,
          "elapsed": 1179,
          "user": {
            "displayName": "Omid Heravi",
            "photoUrl": "https://lh3.googleusercontent.com/a/default-user=s128",
            "userId": "116486008948718280427"
          }
        }
      },
      "cell_type": "code",
      "source": [
        "print('Example:')\n",
        "print(X_train[:1])\n",
        "\n",
        "print(\"Pad sequences (samples x time)\")\n",
        "X_train = sequence.pad_sequences(X_train, maxlen=maxlen)\n",
        "X_test = sequence.pad_sequences(X_test, maxlen=maxlen)\n",
        "print('X_train shape:', X_train.shape)\n",
        "print('X_test shape:', X_test.shape)"
      ],
      "execution_count": 5,
      "outputs": [
        {
          "output_type": "stream",
          "text": [
            "Example:\n",
            "[list([1, 14, 22, 16, 43, 530, 973, 1622, 1385, 65, 458, 4468, 66, 3941, 4, 173, 36, 256, 5, 25, 100, 43, 838, 112, 50, 670, 2, 9, 35, 480, 284, 5, 150, 4, 172, 112, 167, 2, 336, 385, 39, 4, 172, 4536, 1111, 17, 546, 38, 13, 447, 4, 192, 50, 16, 6, 147, 2025, 19, 14, 22, 4, 1920, 4613, 469, 4, 22, 71, 87, 12, 16, 43, 530, 38, 76, 15, 13, 1247, 4, 22, 17, 515, 17, 12, 16, 626, 18, 19193, 5, 62, 386, 12, 8, 316, 8, 106, 5, 4, 2223, 5244, 16, 480, 66, 3785, 33, 4, 130, 12, 16, 38, 619, 5, 25, 124, 51, 36, 135, 48, 25, 1415, 33, 6, 22, 12, 215, 28, 77, 52, 5, 14, 407, 16, 82, 10311, 8, 4, 107, 117, 5952, 15, 256, 4, 2, 7, 3766, 5, 723, 36, 71, 43, 530, 476, 26, 400, 317, 46, 7, 4, 12118, 1029, 13, 104, 88, 4, 381, 15, 297, 98, 32, 2071, 56, 26, 141, 6, 194, 7486, 18, 4, 226, 22, 21, 134, 476, 26, 480, 5, 144, 30, 5535, 18, 51, 36, 28, 224, 92, 25, 104, 4, 226, 65, 16, 38, 1334, 88, 12, 16, 283, 5, 16, 4472, 113, 103, 32, 15, 16, 5345, 19, 178, 32])]\n",
            "Pad sequences (samples x time)\n",
            "X_train shape: (25000, 100)\n",
            "X_test shape: (25000, 100)\n"
          ],
          "name": "stdout"
        }
      ]
    },
    {
      "metadata": {
        "id": "_OJ8MnQhqsHE",
        "colab_type": "text"
      },
      "cell_type": "markdown",
      "source": [
        "## 3. Setup the Model"
      ]
    },
    {
      "metadata": {
        "id": "wtZn2-IlqdYf",
        "colab_type": "code",
        "colab": {
          "autoexec": {
            "startup": false,
            "wait_interval": 0
          },
          "output_extras": [
            {
              "item_id": 1
            }
          ],
          "base_uri": "https://localhost:8080/",
          "height": 34
        },
        "outputId": "7cc79147-1ae5-4ad8-8dfb-c330e7cc4862",
        "executionInfo": {
          "status": "ok",
          "timestamp": 1518937993313,
          "user_tz": 480,
          "elapsed": 435,
          "user": {
            "displayName": "Omid Heravi",
            "photoUrl": "https://lh3.googleusercontent.com/a/default-user=s128",
            "userId": "116486008948718280427"
          }
        }
      },
      "cell_type": "code",
      "source": [
        "print('Build model...')\n",
        "model = Sequential()\n",
        "model.add(Embedding(max_features, 128, input_length=maxlen))\n",
        "model.add(SimpleRNN(128))  \n",
        "model.add(Dropout(0.5))\n",
        "model.add(Dense(1))\n",
        "model.add(Activation('sigmoid'))\n"
      ],
      "execution_count": 6,
      "outputs": [
        {
          "output_type": "stream",
          "text": [
            "Build model...\n"
          ],
          "name": "stdout"
        }
      ]
    },
    {
      "metadata": {
        "id": "hcGY10RbryYe",
        "colab_type": "text"
      },
      "cell_type": "markdown",
      "source": [
        "## 4. Summary of the model"
      ]
    },
    {
      "metadata": {
        "id": "lutAJXYOqwIg",
        "colab_type": "code",
        "colab": {
          "autoexec": {
            "startup": false,
            "wait_interval": 0
          },
          "output_extras": [
            {
              "item_id": 1
            }
          ],
          "base_uri": "https://localhost:8080/",
          "height": 306
        },
        "outputId": "ca062d57-4d2a-4cb8-db4b-56c4e05cab80",
        "executionInfo": {
          "status": "ok",
          "timestamp": 1518937996964,
          "user_tz": 480,
          "elapsed": 325,
          "user": {
            "displayName": "Omid Heravi",
            "photoUrl": "https://lh3.googleusercontent.com/a/default-user=s128",
            "userId": "116486008948718280427"
          }
        }
      },
      "cell_type": "code",
      "source": [
        "model.summary()"
      ],
      "execution_count": 7,
      "outputs": [
        {
          "output_type": "stream",
          "text": [
            "_________________________________________________________________\n",
            "Layer (type)                 Output Shape              Param #   \n",
            "=================================================================\n",
            "embedding_1 (Embedding)      (None, 100, 128)          2560000   \n",
            "_________________________________________________________________\n",
            "simple_rnn_1 (SimpleRNN)     (None, 128)               32896     \n",
            "_________________________________________________________________\n",
            "dropout_1 (Dropout)          (None, 128)               0         \n",
            "_________________________________________________________________\n",
            "dense_1 (Dense)              (None, 1)                 129       \n",
            "_________________________________________________________________\n",
            "activation_1 (Activation)    (None, 1)                 0         \n",
            "=================================================================\n",
            "Total params: 2,593,025\n",
            "Trainable params: 2,593,025\n",
            "Non-trainable params: 0\n",
            "_________________________________________________________________\n"
          ],
          "name": "stdout"
        }
      ]
    },
    {
      "metadata": {
        "id": "PtF7gBE6uC3N",
        "colab_type": "text"
      },
      "cell_type": "markdown",
      "source": [
        "## 5. Compile the model"
      ]
    },
    {
      "metadata": {
        "id": "_Q41jr3SttQj",
        "colab_type": "code",
        "colab": {
          "autoexec": {
            "startup": false,
            "wait_interval": 0
          },
          "output_extras": [
            {
              "item_id": 1
            }
          ],
          "base_uri": "https://localhost:8080/",
          "height": 34
        },
        "outputId": "a5868790-0393-4cf2-c69c-303f51f7fa55",
        "executionInfo": {
          "status": "ok",
          "timestamp": 1518938701052,
          "user_tz": 480,
          "elapsed": 416,
          "user": {
            "displayName": "Omid Heravi",
            "photoUrl": "https://lh3.googleusercontent.com/a/default-user=s128",
            "userId": "116486008948718280427"
          }
        }
      },
      "cell_type": "code",
      "source": [
        "# try using different optimizers and different optimizer configs\n",
        "model.compile(loss='binary_crossentropy', optimizer='adam', metrics=['accuracy'])\n",
        "print('Complete!')"
      ],
      "execution_count": 18,
      "outputs": [
        {
          "output_type": "stream",
          "text": [
            "Complete!\n"
          ],
          "name": "stdout"
        }
      ]
    },
    {
      "metadata": {
        "id": "-talI3TsuJ8Q",
        "colab_type": "text"
      },
      "cell_type": "markdown",
      "source": [
        "## 6. Train the Model"
      ]
    },
    {
      "metadata": {
        "id": "UeCVLCu-uGW2",
        "colab_type": "code",
        "colab": {
          "autoexec": {
            "startup": false,
            "wait_interval": 0
          },
          "output_extras": [
            {
              "item_id": 21
            }
          ],
          "base_uri": "https://localhost:8080/",
          "height": 714
        },
        "outputId": "66c7d69e-26a4-4201-8872-8b0dff0c6be9",
        "executionInfo": {
          "status": "ok",
          "timestamp": 1518939140910,
          "user_tz": 480,
          "elapsed": 433804,
          "user": {
            "displayName": "Omid Heravi",
            "photoUrl": "https://lh3.googleusercontent.com/a/default-user=s128",
            "userId": "116486008948718280427"
          }
        }
      },
      "cell_type": "code",
      "source": [
        "from keras.callbacks import ModelCheckpoint   \n",
        "\n",
        "# Function to later visulaze the accuracy/performance of the model\n",
        "class AccuracyHistory(keras.callbacks.Callback):\n",
        "    def on_train_begin(self, logs={}):\n",
        "        self.acc = []\n",
        "\n",
        "    def on_epoch_end(self, batch, logs={}):\n",
        "        self.acc.append(logs.get('acc'))\n",
        "\n",
        "history = AccuracyHistory()\n",
        "\n",
        "# train the model\n",
        "checkpointer = ModelCheckpoint(filepath='model.weights.best.hdf5', verbose=1, \n",
        "                               save_best_only=True)\n",
        "\n",
        "hist = model.fit(X_train, y_train, batch_size=32, epochs=10,\n",
        "          validation_data=(X_test, y_test), callbacks=[checkpointer,history], \n",
        "          verbose=2, shuffle=True)"
      ],
      "execution_count": 19,
      "outputs": [
        {
          "output_type": "stream",
          "text": [
            "Train on 25000 samples, validate on 25000 samples\n",
            "Epoch 1/10\n",
            " - 44s - loss: 0.3754 - acc: 0.8406 - val_loss: 0.5825 - val_acc: 0.6795\n",
            "\n",
            "Epoch 00001: val_loss improved from inf to 0.58250, saving model to model.weights.best.hdf5\n",
            "Epoch 2/10\n",
            " - 44s - loss: 0.4161 - acc: 0.8139 - val_loss: 0.4624 - val_acc: 0.7968\n",
            "\n",
            "Epoch 00002: val_loss improved from 0.58250 to 0.46245, saving model to model.weights.best.hdf5\n",
            "Epoch 3/10\n",
            " - 43s - loss: 0.3124 - acc: 0.8744 - val_loss: 0.4667 - val_acc: 0.8150\n",
            "\n",
            "Epoch 00003: val_loss did not improve\n",
            "Epoch 4/10\n",
            " - 43s - loss: 0.2667 - acc: 0.9022 - val_loss: 0.4750 - val_acc: 0.7971\n",
            "\n",
            "Epoch 00004: val_loss did not improve\n",
            "Epoch 5/10\n",
            " - 43s - loss: 0.2613 - acc: 0.9000 - val_loss: 0.5367 - val_acc: 0.7597\n",
            "\n",
            "Epoch 00005: val_loss did not improve\n",
            "Epoch 6/10\n",
            " - 43s - loss: 0.2349 - acc: 0.9114 - val_loss: 0.5560 - val_acc: 0.8007\n",
            "\n",
            "Epoch 00006: val_loss did not improve\n",
            "Epoch 7/10\n",
            " - 43s - loss: 0.1994 - acc: 0.9280 - val_loss: 0.5953 - val_acc: 0.7884\n",
            "\n",
            "Epoch 00007: val_loss did not improve\n",
            "Epoch 8/10\n",
            " - 44s - loss: 0.2332 - acc: 0.9111 - val_loss: 0.5979 - val_acc: 0.7948\n",
            "\n",
            "Epoch 00008: val_loss did not improve\n",
            "Epoch 9/10\n",
            " - 43s - loss: 0.1907 - acc: 0.9317 - val_loss: 0.6371 - val_acc: 0.7920\n",
            "\n",
            "Epoch 00009: val_loss did not improve\n",
            "Epoch 10/10\n",
            " - 43s - loss: 0.1697 - acc: 0.9435 - val_loss: 0.6609 - val_acc: 0.7880\n",
            "\n",
            "Epoch 00010: val_loss did not improve\n"
          ],
          "name": "stdout"
        }
      ]
    },
    {
      "metadata": {
        "id": "ethqxpv1yWYd",
        "colab_type": "text"
      },
      "cell_type": "markdown",
      "source": [
        "## 8. Load the Model with the Best Validation Accuracy"
      ]
    },
    {
      "metadata": {
        "id": "FZPPNE_Jud7L",
        "colab_type": "code",
        "colab": {
          "autoexec": {
            "startup": false,
            "wait_interval": 0
          }
        }
      },
      "cell_type": "code",
      "source": [
        "# load the weights that yielded the best validation accuracy\n",
        "model.load_weights('model.weights.best.hdf5')"
      ],
      "execution_count": 0,
      "outputs": []
    },
    {
      "metadata": {
        "id": "t3L9LgUfycqk",
        "colab_type": "text"
      },
      "cell_type": "markdown",
      "source": [
        "## 9. Calculate Classification Accuracy on Test Set"
      ]
    },
    {
      "metadata": {
        "id": "mrmNHy9tyZo9",
        "colab_type": "code",
        "colab": {
          "autoexec": {
            "startup": false,
            "wait_interval": 0
          },
          "output_extras": [
            {
              "item_id": 1
            }
          ],
          "base_uri": "https://localhost:8080/",
          "height": 51
        },
        "outputId": "180f3ba6-0e6e-40da-ff9b-b254fc00745c",
        "executionInfo": {
          "status": "ok",
          "timestamp": 1518939247598,
          "user_tz": 480,
          "elapsed": 8092,
          "user": {
            "displayName": "Omid Heravi",
            "photoUrl": "https://lh3.googleusercontent.com/a/default-user=s128",
            "userId": "116486008948718280427"
          }
        }
      },
      "cell_type": "code",
      "source": [
        "# evaluate and print test accuracy\n",
        "score = model.evaluate(X_test, y_test, verbose=0)\n",
        "print('\\n', 'Test accuracy:', score[1])"
      ],
      "execution_count": 22,
      "outputs": [
        {
          "output_type": "stream",
          "text": [
            "\n",
            " Test accuracy: 0.79676\n"
          ],
          "name": "stdout"
        }
      ]
    },
    {
      "metadata": {
        "id": "NV6sxOXKyth1",
        "colab_type": "text"
      },
      "cell_type": "markdown",
      "source": [
        "## 10. Visulalize the Accuracy of RNN Model"
      ]
    },
    {
      "metadata": {
        "id": "ww4TR50wyhkt",
        "colab_type": "code",
        "colab": {
          "autoexec": {
            "startup": false,
            "wait_interval": 0
          },
          "output_extras": [
            {
              "item_id": 1
            }
          ],
          "base_uri": "https://localhost:8080/",
          "height": 279
        },
        "outputId": "c6a9bd33-227c-4882-c796-807351cea257",
        "executionInfo": {
          "status": "ok",
          "timestamp": 1518939295747,
          "user_tz": 480,
          "elapsed": 436,
          "user": {
            "displayName": "Omid Heravi",
            "photoUrl": "https://lh3.googleusercontent.com/a/default-user=s128",
            "userId": "116486008948718280427"
          }
        }
      },
      "cell_type": "code",
      "source": [
        "import numpy as np\n",
        "\n",
        "accuracy = np.array(history.acc)\n",
        "\n",
        "plt.plot(range(10), accuracy)\n",
        "plt.xlabel('Epochs')\n",
        "plt.ylabel('Accuracy')\n",
        "plt.show()"
      ],
      "execution_count": 24,
      "outputs": [
        {
          "output_type": "display_data",
          "data": {
            "image/png": "[encoded data removed]",
            "text/plain": [
              "<matplotlib.figure.Figure at 0x7ff2477266d8>"
            ]
          },
          "metadata": {
            "tags": []
          }
        }
      ]
    },
    {
      "metadata": {
        "id": "ATHnRkU8yyiH",
        "colab_type": "code",
        "colab": {
          "autoexec": {
            "startup": false,
            "wait_interval": 0
          }
        }
      },
      "cell_type": "code",
      "source": [
        ""
      ],
      "execution_count": 0,
      "outputs": []
    }
  ]
}
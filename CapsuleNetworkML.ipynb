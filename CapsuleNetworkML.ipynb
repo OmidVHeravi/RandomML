{
  "nbformat": 4,
  "nbformat_minor": 0,
  "metadata": {
    "colab": {
      "name": "CapsuleNetworkML.ipynb",
      "version": "0.3.2",
      "views": {},
      "default_view": {},
      "provenance": [],
      "collapsed_sections": []
    },
    "kernelspec": {
      "name": "python3",
      "display_name": "Python 3"
    },
    "accelerator": "GPU"
  },
  "cells": [
    {
      "metadata": {
        "id": "5jD5oC46QkbL",
        "colab_type": "text"
      },
      "cell_type": "markdown",
      "source": [
        "# Capsule Network ML Project"
      ]
    },
    {
      "metadata": {
        "id": "VZzn-GrdQsCM",
        "colab_type": "text"
      },
      "cell_type": "markdown",
      "source": [
        "## 1. Import Necessary Libraries"
      ]
    },
    {
      "metadata": {
        "id": "4qQKqDMgpPp0",
        "colab_type": "code",
        "colab": {
          "autoexec": {
            "startup": false,
            "wait_interval": 0
          }
        }
      },
      "cell_type": "code",
      "source": [
        "import random\n",
        "from tqdm import tqdm #tqdm is necessary for timing the process\n",
        "\n",
        "import numpy as np\n",
        "\n",
        "import torch\n",
        "import torch.nn as nn\n",
        "import torch.backends.cudnn as cudnn\n",
        "import torch.optim as optim\n",
        "import torch.utils.data\n",
        "import torchvision.datasets as dset\n",
        "import torchvision.transforms as transforms\n",
        "import torchvision.utils as vutils\n",
        "from torch.autograd import Variable\n",
        "from torch.autograd import Function\n",
        "import torch.nn.functional as F"
      ],
      "execution_count": 0,
      "outputs": []
    },
    {
      "metadata": {
        "id": "VTrLQa87p77O",
        "colab_type": "text"
      },
      "cell_type": "markdown",
      "source": [
        "### set dot notation access to Dictionaries by defining new Dict Class"
      ]
    },
    {
      "metadata": {
        "id": "B7w-3OI4pvs1",
        "colab_type": "code",
        "colab": {
          "autoexec": {
            "startup": false,
            "wait_interval": 0
          }
        }
      },
      "cell_type": "code",
      "source": [
        "class DotDict(dict):\n",
        "    \"\"\"dot.notation access to dictionary attributes\"\"\"\n",
        "    __getattr__ = dict.get\n",
        "    __setattr__ = dict.__setitem__\n",
        "    __delattr__ = dict.__delitem__"
      ],
      "execution_count": 0,
      "outputs": []
    },
    {
      "metadata": {
        "id": "a1mHOMM3qFk-",
        "colab_type": "text"
      },
      "cell_type": "markdown",
      "source": [
        "## 2. Set Hyperparameters   "
      ]
    },
    {
      "metadata": {
        "id": "8bKbvoqKqC7H",
        "colab_type": "code",
        "colab": {
          "autoexec": {
            "startup": false,
            "wait_interval": 0
          }
        }
      },
      "cell_type": "code",
      "source": [
        "opt = DotDict()\n",
        "\n",
        "opt.dataset = 'mnist'\n",
        "\n",
        "# Input space\n",
        "opt.sizeX = 28\n",
        "\n",
        "# Hardware settings\n",
        "opt.workers = 4\n",
        "opt.cuda = True\n",
        "opt.gpu = 0\n",
        "\n",
        "# Optimization scheme\n",
        "opt.batchSize = 128\n",
        "opt.nEpochs = 10000\n",
        "opt.nRoutings = 3\n",
        "opt.lambdaClfNeg = 0.5\n",
        "opt.lambdaRec = 0.0005\n",
        "\n",
        "# Load networks\n",
        "opt.load = 0\n",
        "opt.checkpointDir = '.'\n",
        "opt.checkpointFreq = 1"
      ],
      "execution_count": 0,
      "outputs": []
    },
    {
      "metadata": {
        "id": "U_sa1S7qqw92",
        "colab_type": "text"
      },
      "cell_type": "markdown",
      "source": [
        "###  Load model weights (previous weights if any)"
      ]
    },
    {
      "metadata": {
        "id": "vvqF1WIhqwI4",
        "colab_type": "code",
        "colab": {
          "autoexec": {
            "startup": false,
            "wait_interval": 0
          }
        }
      },
      "cell_type": "code",
      "source": [
        "# init the network encoder/decoder paths\n",
        "opt.netEnc = ''\n",
        "opt.netDec = ''\n",
        "if opt.load > 0:\n",
        "    opt.netEnc = '%s/netEnc_%d.pth' % (opt.checkpointDir, opt.load)\n",
        "    opt.netDec = '%s/netDec_%d.pth' % (opt.checkpointDir, opt.load)"
      ],
      "execution_count": 0,
      "outputs": []
    },
    {
      "metadata": {
        "id": "LVQxfpzprQfp",
        "colab_type": "text"
      },
      "cell_type": "markdown",
      "source": [
        "## 3. Set Random Seed"
      ]
    },
    {
      "metadata": {
        "id": "KY5Rk2WQrATn",
        "colab_type": "code",
        "colab": {
          "autoexec": {
            "startup": false,
            "wait_interval": 0
          },
          "output_extras": [
            {
              "item_id": 1
            },
            {
              "item_id": 2
            }
          ],
          "base_uri": "https://localhost:8080/",
          "height": 51
        },
        "outputId": "b87e04e0-cc75-48ce-c59e-0720567e1a7c",
        "executionInfo": {
          "status": "ok",
          "timestamp": 1519352174955,
          "user_tz": 480,
          "elapsed": 405,
          "user": {
            "displayName": "Omid Heravi",
            "photoUrl": "https://lh3.googleusercontent.com/a/default-user=s128",
            "userId": "116486008948718280427"
          }
        }
      },
      "cell_type": "code",
      "source": [
        "opt.manualSeed = random.randint(1, 10000)  # fix random seed\n",
        "print(\"Random Seed: \", opt.manualSeed)\n",
        "random.seed(opt.manualSeed)  # set torch seed\n",
        "torch.manual_seed(opt.manualSeed) # set torch manual seed"
      ],
      "execution_count": 10,
      "outputs": [
        {
          "output_type": "stream",
          "text": [
            "Random Seed:  7966\n"
          ],
          "name": "stdout"
        },
        {
          "output_type": "execute_result",
          "data": {
            "text/plain": [
              "<torch._C.Generator at 0x7faf17aa9cd0>"
            ]
          },
          "metadata": {
            "tags": []
          },
          "execution_count": 10
        }
      ]
    },
    {
      "metadata": {
        "id": "pHEucs0Ysp7H",
        "colab_type": "text"
      },
      "cell_type": "markdown",
      "source": [
        "## 4. Define Data-augmentation Class"
      ]
    },
    {
      "metadata": {
        "id": "B5EnUa9VrxF9",
        "colab_type": "code",
        "colab": {
          "autoexec": {
            "startup": false,
            "wait_interval": 0
          }
        }
      },
      "cell_type": "code",
      "source": [
        "# init the main class for images translation/transformation\n",
        "class RandomTranslationWithPadding(object):\n",
        "    def __init__(self, max_shift=2):\n",
        "        self.max_shift = max_shift\n",
        "    def __call__(self, pic):\n",
        "        c = pic.size(0)\n",
        "        h = pic.size(1)\n",
        "        w = pic.size(2)\n",
        "        h_shift, w_shift = np.random.randint(-self.max_shift, self.max_shift + 1, size=2)\n",
        "        x = torch.FloatTensor(c, h, w).zero_()\n",
        "        h_shift\n",
        "        h_shift, w_shift = np.random.randint(-max_shift, max_shift + 1, size=2)\n"
      ],
      "execution_count": 0,
      "outputs": []
    },
    {
      "metadata": {
        "id": "vbZsRJJMs6pB",
        "colab_type": "text"
      },
      "cell_type": "markdown",
      "source": [
        "## 5. Import Dataset"
      ]
    },
    {
      "metadata": {
        "id": "M2UXwv-lsvx0",
        "colab_type": "code",
        "colab": {
          "autoexec": {
            "startup": false,
            "wait_interval": 0
          },
          "output_extras": [
            {
              "item_id": 4
            }
          ],
          "base_uri": "https://localhost:8080/",
          "height": 119
        },
        "outputId": "8930602c-bb81-48d1-9fb6-051bba22aed7",
        "executionInfo": {
          "status": "ok",
          "timestamp": 1519352242862,
          "user_tz": 480,
          "elapsed": 27734,
          "user": {
            "displayName": "Omid Heravi",
            "photoUrl": "https://lh3.googleusercontent.com/a/default-user=s128",
            "userId": "116486008948718280427"
          }
        }
      },
      "cell_type": "code",
      "source": [
        "if opt.dataset == 'mnist':\n",
        "    opt.nc = 1\n",
        "    opt.nClass = 10\n",
        "    dataset = dset.MNIST('/local/chenm/data/MNIST',\n",
        "                         transform=transforms.Compose([transforms.Pad(2),\n",
        "                                                       transforms.RandomCrop(28),\n",
        "                                                       transforms.ToTensor(),\n",
        "                                                      ]), download=True\n",
        "                        )\n",
        "    testset = dset.MNIST('/local/chenm/data/MNIST', \n",
        "                         transform=transforms.Compose([transforms.ToTensor(),\n",
        "                                                      ]), download=True, \n",
        "                         train=False)\n",
        "\n",
        "dataloader = torch.utils.data.DataLoader(dataset, batch_size=opt.batchSize,\n",
        "                                         shuffle=True, num_workers=int(opt.workers))\n",
        "testloader = torch.utils.data.DataLoader(testset, batch_size=opt.batchSize,\n",
        "                                         shuffle=False, num_workers=int(opt.workers))"
      ],
      "execution_count": 12,
      "outputs": [
        {
          "output_type": "stream",
          "text": [
            "Downloading http://yann.lecun.com/exdb/mnist/train-images-idx3-ubyte.gz\n",
            "Downloading http://yann.lecun.com/exdb/mnist/train-labels-idx1-ubyte.gz\n",
            "Downloading http://yann.lecun.com/exdb/mnist/t10k-images-idx3-ubyte.gz\n",
            "Downloading http://yann.lecun.com/exdb/mnist/t10k-labels-idx1-ubyte.gz\n",
            "Processing...\n",
            "Done!\n"
          ],
          "name": "stdout"
        }
      ]
    },
    {
      "metadata": {
        "id": "v6tF8d9mvpXe",
        "colab_type": "text"
      },
      "cell_type": "markdown",
      "source": [
        "## 6. Define the Capsule Network "
      ]
    },
    {
      "metadata": {
        "id": "cWx3dbw_vra9",
        "colab_type": "code",
        "colab": {
          "autoexec": {
            "startup": false,
            "wait_interval": 0
          }
        }
      },
      "cell_type": "code",
      "source": [
        "# https://arxiv.org/abs/1710.09829, Capsule Network theorized by Geoffory Hinton\n",
        "\n",
        "def squash(s):\n",
        "    square_norm_s = (s*s).sum(1).unsqueeze(1)\n",
        "    v = (square_norm_s.sqrt() / (1 + square_norm_s)) * s\n",
        "    return v\n",
        "  \n",
        "  \n",
        "class _convCapsule(nn.Module):\n",
        "    def __init__(self, nCapsIn, in_channels, out_channels, kernel_size, stride=1, padding=0, bias=False):\n",
        "        super(_convCapsule, self).__init__()\n",
        "        self.conv = nn.Conv2d(in_channels=nCapsIn*in_channels,\n",
        "                              out_channels=nCapsIn*out_channels,\n",
        "                              kernel_size=kernel_size,\n",
        "                              stride=stride,\n",
        "                              padding=padding,\n",
        "                              groups=nCapsIn,\n",
        "                              bias=bias)\n",
        "        self.nCapsIn = nCapsIn\n",
        "        self.out_channels = out_channels\n",
        "    def forward(self, u, nRoutings=3):\n",
        "        u_ = self.conv(u)\n",
        "        u_ = u_.view(-1, self.nCapsIn, self.out_channels, u_.size(2), u_.size(3))\n",
        "        v = squash(u_.mean(1))\n",
        "        if nRoutings > 1:\n",
        "            u_reshaped = u_.view(u_.size(0), u_.size(1), u_.size(2), -1).permute(0,3,1,2)\n",
        "            b = 0\n",
        "            for r in range(1, nRoutings):\n",
        "                v_reshaped = v.view(v.size(0), v.size(1), v.size(2)*v.size(3)).permute(0,2,1).unsqueeze(-1)\n",
        "                b = b + u_reshaped.matmul(v_reshaped).permute(0,2,3,1).contiguous().unsqueeze(2)\n",
        "                v = squash((u_ * F.softmax(b, 1)).sum(1))\n",
        "        return v\n",
        "      \n",
        "\n",
        "      \n",
        "class _convCapsuleLayer(nn.Module):\n",
        "    def __init__(self, nCapsIn, nCapsOut, in_channels, out_channels, kernel_size, stride=1, padding=0, bias=False):\n",
        "        super(_convCapsuleLayer, self).__init__()\n",
        "        self.capsules = nn.ModuleList([_convCapsule(nCapsIn=nCapsIn,\n",
        "                                                    in_channels=in_channels,\n",
        "                                                    out_channels=out_channels,\n",
        "                                                    kernel_size=kernel_size,\n",
        "                                                    stride=stride,\n",
        "                                                    padding=padding,\n",
        "                                                    bias=bias) for i in range(nCapsOut)])\n",
        "    def forward(self, u, nRoutings=3):\n",
        "        return torch.cat([capsule(u, nRoutings) for capsule in self.capsules],1)\n",
        "\n",
        "      \n",
        "class _encoder(nn.Module):\n",
        "    def __init__(self, nf, nCaps):\n",
        "        super(_encoder, self).__init__()\n",
        "        self.nf = nf\n",
        "        self.nCaps = nCaps\n",
        "        self.layer1 = nn.Conv2d(nf[0], nf[1], 9)\n",
        "        self.layer2 = nn.Conv2d(nf[1], nCaps[2] * nf[2], 9, 2)\n",
        "        self.layer3 = _convCapsuleLayer(nCaps[2], nCaps[3], nf[2], nf[3], 6)\n",
        "    def forward(self, x):\n",
        "        x1 = F.relu(self.layer1(x))\n",
        "        x2 = squash(self.layer2(x1).view(x1.size(0), self.nCaps[2], self.nf[2], 6, 6)).view(x1.size(0), self.nCaps[2] * self.nf[2], 6, 6)\n",
        "        x3 = self.layer3(x2)\n",
        "        x3 = x3.view(x3.size(0), self.nCaps[3], self.nf[3])\n",
        "        return x3\n",
        "\n",
        "      \n",
        "class _decoder(nn.Module):\n",
        "    def __init__(self, nh):\n",
        "        super(_decoder, self).__init__()\n",
        "        self.layer1 = nn.Linear(nh[0], nh[1])\n",
        "        self.layer2 = nn.Linear(nh[1], nh[2])\n",
        "        self.layer3 = nn.Linear(nh[2], nh[3])\n",
        "    def forward(self, x, y):\n",
        "        x1 = x.masked_select(y.unsqueeze(2).expand_as(x).byte()).view(x.size(0),x.size(2))\n",
        "        x2 = F.relu(self.layer1(x1))\n",
        "        x3 = F.relu(self.layer2(x2))\n",
        "        x4 = F.sigmoid(self.layer3(x3))\n",
        "        return x4\n"
      ],
      "execution_count": 0,
      "outputs": []
    },
    {
      "metadata": {
        "id": "jGZyPSh2wVU6",
        "colab_type": "text"
      },
      "cell_type": "markdown",
      "source": [
        "## 7. Define Variables/Placeholders"
      ]
    },
    {
      "metadata": {
        "id": "Dd8B-0IXs-fZ",
        "colab_type": "code",
        "colab": {
          "autoexec": {
            "startup": false,
            "wait_interval": 0
          }
        }
      },
      "cell_type": "code",
      "source": [
        "x = torch.FloatTensor()\n",
        "y = torch.LongTensor()   \n",
        "oneHot_y = torch.FloatTensor()"
      ],
      "execution_count": 0,
      "outputs": []
    },
    {
      "metadata": {
        "id": "SZkT2XoNwbQi",
        "colab_type": "code",
        "colab": {
          "autoexec": {
            "startup": false,
            "wait_interval": 0
          }
        }
      },
      "cell_type": "code",
      "source": [
        "netEnc = _encoder([1, 256, 8, 16], [0, 0, 32, opt.nClass])\n",
        "netDec = _decoder([16, 512, 1024, 28*28])\n",
        "recCriterion = nn.MSELoss()\n",
        "\n",
        "if opt.netDec != '':\n",
        "    netDec.load_state_dict(torch.load(opt.netDec))\n",
        "if opt.netEnc != '':\n",
        "    netEnc.load_state_dict(torch.load(opt.netEnc))"
      ],
      "execution_count": 0,
      "outputs": []
    },
    {
      "metadata": {
        "id": "NkZHfW5cwd8N",
        "colab_type": "code",
        "colab": {
          "autoexec": {
            "startup": false,
            "wait_interval": 0
          }
        }
      },
      "cell_type": "code",
      "source": [
        "optimizerEnc = optim.Adam(netEnc.parameters())\n",
        "optimizerDec = optim.Adam(netDec.parameters())"
      ],
      "execution_count": 0,
      "outputs": []
    },
    {
      "metadata": {
        "id": "qk_u8SJqwjdE",
        "colab_type": "text"
      },
      "cell_type": "markdown",
      "source": [
        "## 8. Finally, Train The Capsule Network"
      ]
    },
    {
      "metadata": {
        "id": "p6Tw56D2whCj",
        "colab_type": "code",
        "colab": {
          "autoexec": {
            "startup": false,
            "wait_interval": 0
          },
          "output_extras": [
            {
              "item_id": 470
            },
            {
              "item_id": 471
            },
            {
              "item_id": 472
            },
            {
              "item_id": 473
            },
            {
              "item_id": 474
            }
          ],
          "base_uri": "https://localhost:8080/",
          "height": 864
        },
        "outputId": "ae0f76bc-3834-49a1-e813-bf28139c1e64",
        "executionInfo": {
          "status": "error",
          "timestamp": 1519355995917,
          "user_tz": 480,
          "elapsed": 3663026,
          "user": {
            "displayName": "Omid Heravi",
            "photoUrl": "https://lh3.googleusercontent.com/a/default-user=s128",
            "userId": "116486008948718280427"
          }
        }
      },
      "cell_type": "code",
      "source": [
        "\n",
        "for epoch in range(opt.load, opt.nEpochs):\n",
        "    log_clf = []\n",
        "    log_rec = []\n",
        "    for x_cpu, y_cpu in tqdm(dataloader):\n",
        "        netEnc.train()\n",
        "        netDec.train()\n",
        "        x.resize_(x_cpu.size(0), x_cpu.size(1), x_cpu.size(2), x_cpu.size(3)).copy_(x_cpu)\n",
        "        y.resize_(y_cpu.size(0)).copy_(y_cpu)\n",
        "        oneHot_y.resize_(y.size(0), opt.nClass).zero_().scatter_(1, y.unsqueeze(1), 1)\n",
        "        encX = netEnc(Variable(x))\n",
        "        decX = netDec(encX, Variable(oneHot_y)).view(-1,opt.nc, opt.sizeX, opt.sizeX)\n",
        "        pred = (encX*encX).sum(2).sqrt()\n",
        "        lossClf = (Variable(oneHot_y) * (F.relu(.9 - pred)).pow(2) + opt.lambdaClfNeg * (1 - Variable(oneHot_y)) * (F.relu(pred - .1).pow(2))).sum()\n",
        "        lossRec = recCriterion(decX, Variable(x))\n",
        "        (lossClf + opt.lambdaRec * lossRec).backward()\n",
        "        optimizerEnc.step()\n",
        "        optimizerDec.step()\n",
        "        netEnc.zero_grad()\n",
        "        netDec.zero_grad()\n",
        "        log_clf.append(lossClf.data / y.size(0))\n",
        "        log_rec.append(lossRec.data / y.size(0))\n",
        "    print(epoch+1, \n",
        "          np.array(log_clf).mean(),\n",
        "          np.array(log_rec).mean(),\n",
        "         )\n",
        "    with open('logs.dat', 'ab') as f:\n",
        "        np.savetxt(f, np.vstack((np.array(log_clf),\n",
        "                                 np.array(log_rec),\n",
        "                                 )).T)\n",
        "    if (epoch+1) % opt.checkpointFreq == 0:\n",
        "        netEnc.eval()\n",
        "        netDec.eval()\n",
        "        acc = 0\n",
        "        n = 0\n",
        "        for x_cpu, y_cpu in testloader:\n",
        "            netEnc.eval()\n",
        "            netDec.eval()\n",
        "            x.resize_(x_cpu.size(0), x_cpu.size(1), x_cpu.size(2), x_cpu.size(3)).copy_(x_cpu)\n",
        "            y.resize_(y_cpu.size(0)).copy_(y_cpu)\n",
        "            oneHot_y.resize_(y.size(0), opt.nClass).zero_().scatter_(1, y.unsqueeze(1), 1)\n",
        "            encX = netEnc(Variable(x, volatile=True))\n",
        "            decX = netDec(encX, Variable(oneHot_y, volatile=True)).view(-1,opt.nc, opt.sizeX, opt.sizeX)\n",
        "            pred = (encX*encX).sum(2).sqrt()\n",
        "            acc += (pred.data.max(1)[1] == y).sum()\n",
        "            n += y.size(0)\n",
        "        print(\"Accuracy: \", acc/n)\n",
        "        vutils.save_image(x_cpu, 'x_%d.png' % (epoch+1), normalize=True)        \n",
        "        vutils.save_image(decX.cpu().data, 'out_%d.png' % (epoch+1), normalize=True)        \n",
        "        torch.save(netEnc.state_dict(), '%s/netEnc_%d.pth' % (opt.checkpointDir, (epoch+1)))\n",
        "        torch.save(netDec.state_dict(), '%s/netDec_%d.pth' % (opt.checkpointDir, (epoch+1)))        \n"
      ],
      "execution_count": 17,
      "outputs": [
        {
          "output_type": "stream",
          "text": [
            "100%|██████████| 469/469 [58:41<00:00,  7.51s/it]"
          ],
          "name": "stderr"
        },
        {
          "output_type": "stream",
          "text": [
            "1 0.08635334 0.0006336314\n"
          ],
          "name": "stdout"
        },
        {
          "output_type": "stream",
          "text": [
            "\n"
          ],
          "name": "stderr"
        },
        {
          "output_type": "stream",
          "text": [
            "Accuracy:  0.9853\n"
          ],
          "name": "stdout"
        },
        {
          "output_type": "error",
          "ename": "AttributeError",
          "evalue": "ignored",
          "traceback": [
            "\u001b[0;31m---------------------------------------------------------------------------\u001b[0m",
            "\u001b[0;31mAttributeError\u001b[0m                            Traceback (most recent call last)",
            "\u001b[0;32m<ipython-input-17-dc72a9c7f7ed>\u001b[0m in \u001b[0;36m<module>\u001b[0;34m()\u001b[0m\n\u001b[1;32m     46\u001b[0m             \u001b[0mn\u001b[0m \u001b[0;34m+=\u001b[0m \u001b[0my\u001b[0m\u001b[0;34m.\u001b[0m\u001b[0msize\u001b[0m\u001b[0;34m(\u001b[0m\u001b[0;36m0\u001b[0m\u001b[0;34m)\u001b[0m\u001b[0;34m\u001b[0m\u001b[0m\n\u001b[1;32m     47\u001b[0m         \u001b[0mprint\u001b[0m\u001b[0;34m(\u001b[0m\u001b[0;34m\"Accuracy: \"\u001b[0m\u001b[0;34m,\u001b[0m \u001b[0macc\u001b[0m\u001b[0;34m/\u001b[0m\u001b[0mn\u001b[0m\u001b[0;34m)\u001b[0m\u001b[0;34m\u001b[0m\u001b[0m\n\u001b[0;32m---> 48\u001b[0;31m         \u001b[0mvutils\u001b[0m\u001b[0;34m.\u001b[0m\u001b[0msave_image\u001b[0m\u001b[0;34m(\u001b[0m\u001b[0mx_cpu\u001b[0m\u001b[0;34m,\u001b[0m \u001b[0;34m'x_%d.png'\u001b[0m \u001b[0;34m%\u001b[0m \u001b[0;34m(\u001b[0m\u001b[0mepoch\u001b[0m\u001b[0;34m+\u001b[0m\u001b[0;36m1\u001b[0m\u001b[0;34m)\u001b[0m\u001b[0;34m,\u001b[0m \u001b[0mnormalize\u001b[0m\u001b[0;34m=\u001b[0m\u001b[0;32mTrue\u001b[0m\u001b[0;34m)\u001b[0m\u001b[0;34m\u001b[0m\u001b[0m\n\u001b[0m\u001b[1;32m     49\u001b[0m         \u001b[0mvutils\u001b[0m\u001b[0;34m.\u001b[0m\u001b[0msave_image\u001b[0m\u001b[0;34m(\u001b[0m\u001b[0mdecX\u001b[0m\u001b[0;34m.\u001b[0m\u001b[0mcpu\u001b[0m\u001b[0;34m(\u001b[0m\u001b[0;34m)\u001b[0m\u001b[0;34m.\u001b[0m\u001b[0mdata\u001b[0m\u001b[0;34m,\u001b[0m \u001b[0;34m'out_%d.png'\u001b[0m \u001b[0;34m%\u001b[0m \u001b[0;34m(\u001b[0m\u001b[0mepoch\u001b[0m\u001b[0;34m+\u001b[0m\u001b[0;36m1\u001b[0m\u001b[0;34m)\u001b[0m\u001b[0;34m,\u001b[0m \u001b[0mnormalize\u001b[0m\u001b[0;34m=\u001b[0m\u001b[0;32mTrue\u001b[0m\u001b[0;34m)\u001b[0m\u001b[0;34m\u001b[0m\u001b[0m\n\u001b[1;32m     50\u001b[0m         \u001b[0mtorch\u001b[0m\u001b[0;34m.\u001b[0m\u001b[0msave\u001b[0m\u001b[0;34m(\u001b[0m\u001b[0mnetEnc\u001b[0m\u001b[0;34m.\u001b[0m\u001b[0mstate_dict\u001b[0m\u001b[0;34m(\u001b[0m\u001b[0;34m)\u001b[0m\u001b[0;34m,\u001b[0m \u001b[0;34m'%s/netEnc_%d.pth'\u001b[0m \u001b[0;34m%\u001b[0m \u001b[0;34m(\u001b[0m\u001b[0mopt\u001b[0m\u001b[0;34m.\u001b[0m\u001b[0mcheckpointDir\u001b[0m\u001b[0;34m,\u001b[0m \u001b[0;34m(\u001b[0m\u001b[0mepoch\u001b[0m\u001b[0;34m+\u001b[0m\u001b[0;36m1\u001b[0m\u001b[0;34m)\u001b[0m\u001b[0;34m)\u001b[0m\u001b[0;34m)\u001b[0m\u001b[0;34m\u001b[0m\u001b[0m\n",
            "\u001b[0;32m/usr/local/lib/python3.6/dist-packages/torchvision/utils.py\u001b[0m in \u001b[0;36msave_image\u001b[0;34m(tensor, filename, nrow, padding, normalize, range, scale_each, pad_value)\u001b[0m\n\u001b[1;32m     99\u001b[0m     \u001b[0mndarr\u001b[0m \u001b[0;34m=\u001b[0m \u001b[0mgrid\u001b[0m\u001b[0;34m.\u001b[0m\u001b[0mmul\u001b[0m\u001b[0;34m(\u001b[0m\u001b[0;36m255\u001b[0m\u001b[0;34m)\u001b[0m\u001b[0;34m.\u001b[0m\u001b[0mclamp\u001b[0m\u001b[0;34m(\u001b[0m\u001b[0;36m0\u001b[0m\u001b[0;34m,\u001b[0m \u001b[0;36m255\u001b[0m\u001b[0;34m)\u001b[0m\u001b[0;34m.\u001b[0m\u001b[0mbyte\u001b[0m\u001b[0;34m(\u001b[0m\u001b[0;34m)\u001b[0m\u001b[0;34m.\u001b[0m\u001b[0mpermute\u001b[0m\u001b[0;34m(\u001b[0m\u001b[0;36m1\u001b[0m\u001b[0;34m,\u001b[0m \u001b[0;36m2\u001b[0m\u001b[0;34m,\u001b[0m \u001b[0;36m0\u001b[0m\u001b[0;34m)\u001b[0m\u001b[0;34m.\u001b[0m\u001b[0mnumpy\u001b[0m\u001b[0;34m(\u001b[0m\u001b[0;34m)\u001b[0m\u001b[0;34m\u001b[0m\u001b[0m\n\u001b[1;32m    100\u001b[0m     \u001b[0mim\u001b[0m \u001b[0;34m=\u001b[0m \u001b[0mImage\u001b[0m\u001b[0;34m.\u001b[0m\u001b[0mfromarray\u001b[0m\u001b[0;34m(\u001b[0m\u001b[0mndarr\u001b[0m\u001b[0;34m)\u001b[0m\u001b[0;34m\u001b[0m\u001b[0m\n\u001b[0;32m--> 101\u001b[0;31m     \u001b[0mim\u001b[0m\u001b[0;34m.\u001b[0m\u001b[0msave\u001b[0m\u001b[0;34m(\u001b[0m\u001b[0mfilename\u001b[0m\u001b[0;34m)\u001b[0m\u001b[0;34m\u001b[0m\u001b[0m\n\u001b[0m",
            "\u001b[0;32m/usr/local/lib/python3.6/dist-packages/PIL/Image.py\u001b[0m in \u001b[0;36msave\u001b[0;34m(self, fp, format, **params)\u001b[0m\n\u001b[1;32m   1704\u001b[0m \u001b[0;34m\u001b[0m\u001b[0m\n\u001b[1;32m   1705\u001b[0m         \u001b[0;34m:\u001b[0m\u001b[0mparam\u001b[0m \u001b[0msize\u001b[0m\u001b[0;34m:\u001b[0m \u001b[0mThe\u001b[0m \u001b[0mrequested\u001b[0m \u001b[0msize\u001b[0m \u001b[0;32min\u001b[0m \u001b[0mpixels\u001b[0m\u001b[0;34m,\u001b[0m \u001b[0;32mas\u001b[0m \u001b[0ma\u001b[0m \u001b[0;36m2\u001b[0m\u001b[0;34m-\u001b[0m\u001b[0mtuple\u001b[0m\u001b[0;34m:\u001b[0m\u001b[0;34m\u001b[0m\u001b[0m\n\u001b[0;32m-> 1706\u001b[0;31m            \u001b[0;34m(\u001b[0m\u001b[0mwidth\u001b[0m\u001b[0;34m,\u001b[0m \u001b[0mheight\u001b[0m\u001b[0;34m)\u001b[0m\u001b[0;34m.\u001b[0m\u001b[0;34m\u001b[0m\u001b[0m\n\u001b[0m\u001b[1;32m   1707\u001b[0m         \u001b[0;34m:\u001b[0m\u001b[0mparam\u001b[0m \u001b[0mresample\u001b[0m\u001b[0;34m:\u001b[0m \u001b[0mAn\u001b[0m \u001b[0moptional\u001b[0m \u001b[0mresampling\u001b[0m \u001b[0mfilter\u001b[0m\u001b[0;34m.\u001b[0m  \u001b[0mThis\u001b[0m \u001b[0mcan\u001b[0m \u001b[0mbe\u001b[0m\u001b[0;34m\u001b[0m\u001b[0m\n\u001b[1;32m   1708\u001b[0m            \u001b[0mone\u001b[0m \u001b[0mof\u001b[0m \u001b[0;34m:\u001b[0m\u001b[0mpy\u001b[0m\u001b[0;34m:\u001b[0m\u001b[0mattr\u001b[0m\u001b[0;34m:\u001b[0m\u001b[0;31m`\u001b[0m\u001b[0mPIL\u001b[0m\u001b[0;34m.\u001b[0m\u001b[0mImage\u001b[0m\u001b[0;34m.\u001b[0m\u001b[0mNEAREST\u001b[0m\u001b[0;31m`\u001b[0m\u001b[0;34m,\u001b[0m \u001b[0;34m:\u001b[0m\u001b[0mpy\u001b[0m\u001b[0;34m:\u001b[0m\u001b[0mattr\u001b[0m\u001b[0;34m:\u001b[0m\u001b[0;31m`\u001b[0m\u001b[0mPIL\u001b[0m\u001b[0;34m.\u001b[0m\u001b[0mImage\u001b[0m\u001b[0;34m.\u001b[0m\u001b[0mBOX\u001b[0m\u001b[0;31m`\u001b[0m\u001b[0;34m,\u001b[0m\u001b[0;34m\u001b[0m\u001b[0m\n",
            "\u001b[0;32m/usr/local/lib/python3.6/dist-packages/PIL/Image.py\u001b[0m in \u001b[0;36mpreinit\u001b[0;34m()\u001b[0m\n\u001b[1;32m    364\u001b[0m \u001b[0;34m\u001b[0m\u001b[0m\n\u001b[1;32m    365\u001b[0m     \u001b[0;32mtry\u001b[0m\u001b[0;34m:\u001b[0m\u001b[0;34m\u001b[0m\u001b[0m\n\u001b[0;32m--> 366\u001b[0;31m         \u001b[0;32mfrom\u001b[0m \u001b[0;34m.\u001b[0m \u001b[0;32mimport\u001b[0m \u001b[0mBmpImagePlugin\u001b[0m\u001b[0;34m\u001b[0m\u001b[0m\n\u001b[0m\u001b[1;32m    367\u001b[0m     \u001b[0;32mexcept\u001b[0m \u001b[0mImportError\u001b[0m\u001b[0;34m:\u001b[0m\u001b[0;34m\u001b[0m\u001b[0m\n\u001b[1;32m    368\u001b[0m         \u001b[0;32mpass\u001b[0m\u001b[0;34m\u001b[0m\u001b[0m\n",
            "\u001b[0;32m/usr/local/lib/python3.6/dist-packages/PIL/JpegImagePlugin.py\u001b[0m in \u001b[0;36m<module>\u001b[0;34m()\u001b[0m\n\u001b[1;32m     39\u001b[0m \u001b[0;32mimport\u001b[0m \u001b[0mio\u001b[0m\u001b[0;34m\u001b[0m\u001b[0m\n\u001b[1;32m     40\u001b[0m \u001b[0;32mimport\u001b[0m \u001b[0mwarnings\u001b[0m\u001b[0;34m\u001b[0m\u001b[0m\n\u001b[0;32m---> 41\u001b[0;31m \u001b[0;32mfrom\u001b[0m \u001b[0;34m.\u001b[0m \u001b[0;32mimport\u001b[0m \u001b[0mImage\u001b[0m\u001b[0;34m,\u001b[0m \u001b[0mImageFile\u001b[0m\u001b[0;34m,\u001b[0m \u001b[0mTiffImagePlugin\u001b[0m\u001b[0;34m\u001b[0m\u001b[0m\n\u001b[0m\u001b[1;32m     42\u001b[0m \u001b[0;32mfrom\u001b[0m \u001b[0;34m.\u001b[0m\u001b[0m_binary\u001b[0m \u001b[0;32mimport\u001b[0m \u001b[0mi8\u001b[0m\u001b[0;34m,\u001b[0m \u001b[0mo8\u001b[0m\u001b[0;34m,\u001b[0m \u001b[0mi16be\u001b[0m \u001b[0;32mas\u001b[0m \u001b[0mi16\u001b[0m\u001b[0;34m\u001b[0m\u001b[0m\n\u001b[1;32m     43\u001b[0m \u001b[0;32mfrom\u001b[0m \u001b[0;34m.\u001b[0m\u001b[0mJpegPresets\u001b[0m \u001b[0;32mimport\u001b[0m \u001b[0mpresets\u001b[0m\u001b[0;34m\u001b[0m\u001b[0m\n",
            "\u001b[0;32m/usr/local/lib/python3.6/dist-packages/PIL/TiffImagePlugin.py\u001b[0m in \u001b[0;36m<module>\u001b[0;34m()\u001b[0m\n\u001b[1;32m   1813\u001b[0m \u001b[0mImage\u001b[0m\u001b[0;34m.\u001b[0m\u001b[0mregister_save_all\u001b[0m\u001b[0;34m(\u001b[0m\u001b[0mTiffImageFile\u001b[0m\u001b[0;34m.\u001b[0m\u001b[0mformat\u001b[0m\u001b[0;34m,\u001b[0m \u001b[0m_save_all\u001b[0m\u001b[0;34m)\u001b[0m\u001b[0;34m\u001b[0m\u001b[0m\n\u001b[1;32m   1814\u001b[0m \u001b[0;34m\u001b[0m\u001b[0m\n\u001b[0;32m-> 1815\u001b[0;31m \u001b[0mImage\u001b[0m\u001b[0;34m.\u001b[0m\u001b[0mregister_extensions\u001b[0m\u001b[0;34m(\u001b[0m\u001b[0mTiffImageFile\u001b[0m\u001b[0;34m.\u001b[0m\u001b[0mformat\u001b[0m\u001b[0;34m,\u001b[0m \u001b[0;34m[\u001b[0m\u001b[0;34m\".tif\"\u001b[0m\u001b[0;34m,\u001b[0m \u001b[0;34m\".tiff\"\u001b[0m\u001b[0;34m]\u001b[0m\u001b[0;34m)\u001b[0m\u001b[0;34m\u001b[0m\u001b[0m\n\u001b[0m\u001b[1;32m   1816\u001b[0m \u001b[0;34m\u001b[0m\u001b[0m\n\u001b[1;32m   1817\u001b[0m \u001b[0mImage\u001b[0m\u001b[0;34m.\u001b[0m\u001b[0mregister_mime\u001b[0m\u001b[0;34m(\u001b[0m\u001b[0mTiffImageFile\u001b[0m\u001b[0;34m.\u001b[0m\u001b[0mformat\u001b[0m\u001b[0;34m,\u001b[0m \u001b[0;34m\"image/tiff\"\u001b[0m\u001b[0;34m)\u001b[0m\u001b[0;34m\u001b[0m\u001b[0m\n",
            "\u001b[0;31mAttributeError\u001b[0m: module 'PIL.Image' has no attribute 'register_extensions'"
          ]
        }
      ]
    },
    {
      "metadata": {
        "id": "eJhATb7R8S1U",
        "colab_type": "code",
        "colab": {
          "autoexec": {
            "startup": false,
            "wait_interval": 0
          }
        }
      },
      "cell_type": "code",
      "source": [
        ""
      ],
      "execution_count": 0,
      "outputs": []
    }
  ]
}
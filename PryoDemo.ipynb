{
  "nbformat": 4,
  "nbformat_minor": 0,
  "metadata": {
    "colab": {
      "name": "PryoDemo.ipynb",
      "version": "0.3.2",
      "views": {},
      "default_view": {},
      "provenance": [],
      "collapsed_sections": []
    },
    "kernelspec": {
      "name": "python3",
      "display_name": "Python 3"
    }
  },
  "cells": [
    {
      "metadata": {
        "id": "sKAvmOEFUUG1",
        "colab_type": "text"
      },
      "cell_type": "markdown",
      "source": [
        "# Pyro AI (Uber) Demo"
      ]
    },
    {
      "metadata": {
        "id": "71TnqH34UZDY",
        "colab_type": "text"
      },
      "cell_type": "markdown",
      "source": [
        "## Import Libraries"
      ]
    },
    {
      "metadata": {
        "id": "3gMILNjaUXqR",
        "colab_type": "code",
        "colab": {
          "autoexec": {
            "startup": false,
            "wait_interval": 0
          }
        }
      },
      "cell_type": "code",
      "source": [
        "import torch\n",
        "from torch.autograd import Variable\n",
        "\n",
        "import pyro\n",
        "import pyro.distributions as dist"
      ],
      "execution_count": 0,
      "outputs": []
    },
    {
      "metadata": {
        "id": "h_SuFbyuW3Bt",
        "colab_type": "text"
      },
      "cell_type": "markdown",
      "source": [
        "## Define some basic variables"
      ]
    },
    {
      "metadata": {
        "id": "Bnx56tBRW1M1",
        "colab_type": "code",
        "colab": {
          "autoexec": {
            "startup": false,
            "wait_interval": 0
          },
          "output_extras": [
            {
              "item_id": 1
            }
          ],
          "base_uri": "https://localhost:8080/",
          "height": 85
        },
        "outputId": "324edb2a-00de-4895-f574-3569052e0360",
        "executionInfo": {
          "status": "ok",
          "timestamp": 1519099039982,
          "user_tz": 480,
          "elapsed": 280,
          "user": {
            "displayName": "Omid Heravi",
            "photoUrl": "https://lh3.googleusercontent.com/a/default-user=s128",
            "userId": "116486008948718280427"
          }
        }
      },
      "cell_type": "code",
      "source": [
        "mu = Variable(torch.zeros(1))   # mean zero\n",
        "sigma = Variable(torch.ones(1)) # unit variance\n",
        "x = dist.normal(mu, sigma)      # x is a sample from N(0,1)\n",
        "print(x)"
      ],
      "execution_count": 6,
      "outputs": [
        {
          "output_type": "stream",
          "text": [
            "Variable containing:\n",
            "-1.2449\n",
            "[torch.FloatTensor of size 1]\n",
            "\n"
          ],
          "name": "stdout"
        }
      ]
    },
    {
      "metadata": {
        "id": "f_2m8YeHXAYF",
        "colab_type": "text"
      },
      "cell_type": "markdown",
      "source": [
        "## Test some arbitrary probabilistic distributions"
      ]
    },
    {
      "metadata": {
        "id": "OMgwbjfOW8-G",
        "colab_type": "code",
        "colab": {
          "autoexec": {
            "startup": false,
            "wait_interval": 0
          },
          "output_extras": [
            {
              "item_id": 1
            }
          ],
          "base_uri": "https://localhost:8080/",
          "height": 85
        },
        "outputId": "5112c180-3471-45eb-98fa-6d6de400810e",
        "executionInfo": {
          "status": "ok",
          "timestamp": 1519099077471,
          "user_tz": 480,
          "elapsed": 304,
          "user": {
            "displayName": "Omid Heravi",
            "photoUrl": "https://lh3.googleusercontent.com/a/default-user=s128",
            "userId": "116486008948718280427"
          }
        }
      },
      "cell_type": "code",
      "source": [
        "log_p_x = dist.normal.log_pdf(x, mu, sigma)\n",
        "print(log_p_x)"
      ],
      "execution_count": 7,
      "outputs": [
        {
          "output_type": "stream",
          "text": [
            "Variable containing:\n",
            "-1.6938\n",
            "[torch.FloatTensor of size 1]\n",
            "\n"
          ],
          "name": "stdout"
        }
      ]
    },
    {
      "metadata": {
        "id": "0B8elEzcXGHm",
        "colab_type": "code",
        "colab": {
          "autoexec": {
            "startup": false,
            "wait_interval": 0
          },
          "output_extras": [
            {
              "item_id": 1
            }
          ],
          "base_uri": "https://localhost:8080/",
          "height": 85
        },
        "outputId": "a2f6c121-a34e-48f4-8b5f-8321f2499e13",
        "executionInfo": {
          "status": "ok",
          "timestamp": 1519099085260,
          "user_tz": 480,
          "elapsed": 342,
          "user": {
            "displayName": "Omid Heravi",
            "photoUrl": "https://lh3.googleusercontent.com/a/default-user=s128",
            "userId": "116486008948718280427"
          }
        }
      },
      "cell_type": "code",
      "source": [
        "x = pyro.sample(\"my_sample\", dist.normal, mu, sigma)\n",
        "print(x)"
      ],
      "execution_count": 8,
      "outputs": [
        {
          "output_type": "stream",
          "text": [
            "Variable containing:\n",
            "-1.5940\n",
            "[torch.FloatTensor of size 1]\n",
            "\n"
          ],
          "name": "stdout"
        }
      ]
    },
    {
      "metadata": {
        "id": "xqyg5lL-XWMH",
        "colab_type": "text"
      },
      "cell_type": "markdown",
      "source": [
        "## Test some probabilistic functions"
      ]
    },
    {
      "metadata": {
        "id": "Xg4PfEvjXU2Z",
        "colab_type": "code",
        "colab": {
          "autoexec": {
            "startup": false,
            "wait_interval": 0
          },
          "output_extras": [
            {
              "item_id": 1
            }
          ],
          "base_uri": "https://localhost:8080/",
          "height": 68
        },
        "outputId": "f66ccf19-5a22-4c2d-8962-d7abf8b23894",
        "executionInfo": {
          "status": "ok",
          "timestamp": 1519099164955,
          "user_tz": 480,
          "elapsed": 367,
          "user": {
            "displayName": "Omid Heravi",
            "photoUrl": "https://lh3.googleusercontent.com/a/default-user=s128",
            "userId": "116486008948718280427"
          }
        }
      },
      "cell_type": "code",
      "source": [
        "def weather():\n",
        "    cloudy = pyro.sample('cloudy', dist.bernoulli,\n",
        "                         Variable(torch.Tensor([0.3])))\n",
        "    cloudy = 'cloudy' if cloudy.data[0] == 1.0 else 'sunny'\n",
        "    mean_temp = {'cloudy': [55.0], 'sunny': [75.0]}[cloudy]\n",
        "    sigma_temp = {'cloudy': [10.0], 'sunny': [15.0]}[cloudy]\n",
        "    temp = pyro.sample('temp', dist.normal,\n",
        "                       Variable(torch.Tensor(mean_temp)),\n",
        "                       Variable(torch.Tensor(sigma_temp)))\n",
        "    return cloudy, temp.data[0]\n",
        "\n",
        "for _ in range(3):\n",
        "    print(weather())"
      ],
      "execution_count": 9,
      "outputs": [
        {
          "output_type": "stream",
          "text": [
            "('sunny', 96.42803955078125)\n",
            "('sunny', 79.27352142333984)\n",
            "('cloudy', 45.928504943847656)\n"
          ],
          "name": "stdout"
        }
      ]
    },
    {
      "metadata": {
        "id": "DDPY7ulgXIAn",
        "colab_type": "code",
        "colab": {
          "autoexec": {
            "startup": false,
            "wait_interval": 0
          },
          "output_extras": [
            {
              "item_id": 1
            }
          ],
          "base_uri": "https://localhost:8080/",
          "height": 85
        },
        "outputId": "98f434dc-cb3d-49ba-d59e-a5e2017a5ced",
        "executionInfo": {
          "status": "ok",
          "timestamp": 1519099177065,
          "user_tz": 480,
          "elapsed": 323,
          "user": {
            "displayName": "Omid Heravi",
            "photoUrl": "https://lh3.googleusercontent.com/a/default-user=s128",
            "userId": "116486008948718280427"
          }
        }
      },
      "cell_type": "code",
      "source": [
        "def geometric(p, t=None):\n",
        "    if t is None:\n",
        "        t = 0\n",
        "    x = pyro.sample(\"x_{}\".format(t), dist.bernoulli, p)\n",
        "    if torch.equal(x.data, torch.zeros(1)):\n",
        "        return x\n",
        "    else:\n",
        "        return x + geometric(p, t+1)\n",
        "\n",
        "print(geometric(Variable(torch.Tensor([0.5]))))"
      ],
      "execution_count": 10,
      "outputs": [
        {
          "output_type": "stream",
          "text": [
            "Variable containing:\n",
            " 2\n",
            "[torch.FloatTensor of size 1]\n",
            "\n"
          ],
          "name": "stdout"
        }
      ]
    },
    {
      "metadata": {
        "id": "biBB9ZcWXgMP",
        "colab_type": "text"
      },
      "cell_type": "markdown",
      "source": [
        " Code inspired and serves as a demo by Siraj Rival"
      ]
    }
  ]
}